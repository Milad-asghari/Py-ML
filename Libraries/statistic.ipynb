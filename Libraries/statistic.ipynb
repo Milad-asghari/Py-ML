{
 "cells": [
  {
   "cell_type": "markdown",
   "metadata": {},
   "source": [
    "### Statistic library"
   ]
  },
  {
   "cell_type": "code",
   "execution_count": 1,
   "metadata": {},
   "outputs": [],
   "source": [
    "a = [1,1,2,3,4,4,5,5,5]"
   ]
  },
  {
   "cell_type": "code",
   "execution_count": null,
   "metadata": {},
   "outputs": [
    {
     "data": {
      "text/plain": [
       "1"
      ]
     },
     "metadata": {},
     "output_type": "display_data"
    }
   ],
   "source": [
    "min(a)"
   ]
  },
  {
   "cell_type": "code",
   "execution_count": null,
   "metadata": {},
   "outputs": [
    {
     "data": {
      "text/plain": [
       "5"
      ]
     },
     "metadata": {},
     "output_type": "display_data"
    }
   ],
   "source": [
    "max(a)"
   ]
  },
  {
   "cell_type": "code",
   "execution_count": 2,
   "metadata": {},
   "outputs": [
    {
     "name": "stdout",
     "output_type": "stream",
     "text": [
      "Mode of a is:  5\n",
      "Median of a is:  4\n",
      "Standard deviation of a is: 1.6583123951777\n"
     ]
    }
   ],
   "source": [
    "import statistics as st\n",
    "print('Mode of a is: ', st.mode(a))\n",
    "print('Median of a is: ', st.median(a))\n",
    "print('Standard deviation of a is:', st.stdev(a))"
   ]
  },
  {
   "cell_type": "markdown",
   "metadata": {},
   "source": [
    "### Averaging"
   ]
  },
  {
   "cell_type": "markdown",
   "metadata": {},
   "source": [
    "|Function| Application |\n",
    "|:--|:--|\n",
    "|`mean()` | `Arithmetic mean (“average”) of data.` | \n",
    "|`fmean()` | `Fast, floating point arithmetic mean, with optional weighting.` | \n",
    "|`geometric_mean()` | `Geometric mean of data.` | \n",
    "|`harmonic_mean()` | `Harmonic mean of data.` | \n",
    "|`median()` | `Median (middle value) of data.` | \n",
    "|`median_low()` | `Low median of data` | \n",
    "|`median_high()` | `High median of data.` | \n",
    "|`median_grouped()` | `Median, or 50th percentile, of grouped data.` | \n",
    "|`mode()` | `Single mode (most common value) of discrete or nominal data.` | \n",
    "|`multimode()` | `List of modes (most common values) of discrete or nominal data.` | \n",
    "|`quantiles()` | `Divide data into intervals with equal probability.` | \n"
   ]
  },
  {
   "cell_type": "markdown",
   "metadata": {},
   "source": [
    "#### Measures of spread"
   ]
  },
  {
   "cell_type": "markdown",
   "metadata": {},
   "source": [
    "|Function| Application |\n",
    "|:--|:--|\n",
    "|`pstdev()` | `Population standard deviation of data.` | \n",
    "|`stdev()` | `Sample standard deviation of data.` | \n",
    "|`variance()` | `Sample variance of data.` | "
   ]
  },
  {
   "cell_type": "markdown",
   "metadata": {},
   "source": [
    "### Two input "
   ]
  },
  {
   "cell_type": "markdown",
   "metadata": {},
   "source": [
    "|Function| Application |\n",
    "|:--|:--|\n",
    "|`covariance()` | `Sample covariance for two variables.` | \n",
    "|`correlation()` | `Pearson’s correlation coefficient for two variables.` | \n",
    "|`linear_regression()` | `Slope and intercept for simple linear regression.` | "
   ]
  },
  {
   "cell_type": "code",
   "execution_count": null,
   "metadata": {},
   "outputs": [
    {
     "name": "stdout",
     "output_type": "stream",
     "text": [
      "Intercept is 4.810526315789474 and slope is 1.3657894736842104\n"
     ]
    }
   ],
   "source": [
    "x = [2,5,4,8,1,5,4,1,2]\n",
    "y = [5,17,14,15,5,9,5,8,9]\n",
    "inter = st.linear_regression(x,y).intercept\n",
    "slope = st.linear_regression(x,y).slope\n",
    "print(f'Intercept is {inter} and slope is {slope}')"
   ]
  },
  {
   "cell_type": "code",
   "execution_count": null,
   "metadata": {},
   "outputs": [
    {
     "data": {
      "text/plain": [
       "LinearRegression(slope=1.3657894736842104, intercept=4.810526315789474)"
      ]
     },
     "metadata": {},
     "output_type": "display_data"
    }
   ],
   "source": [
    "st.linear_regression(x,y)"
   ]
  }
 ],
 "metadata": {
  "kernelspec": {
   "display_name": "Python 3.10.2 64-bit",
   "language": "python",
   "name": "python3"
  },
  "language_info": {
   "codemirror_mode": {
    "name": "ipython",
    "version": 3
   },
   "file_extension": ".py",
   "mimetype": "text/x-python",
   "name": "python",
   "nbconvert_exporter": "python",
   "pygments_lexer": "ipython3",
   "version": "3.10.2"
  },
  "orig_nbformat": 4,
  "vscode": {
   "interpreter": {
    "hash": "26de051ba29f2982a8de78e945f0abaf191376122a1563185a90213a26c5da77"
   }
  }
 },
 "nbformat": 4,
 "nbformat_minor": 2
}
