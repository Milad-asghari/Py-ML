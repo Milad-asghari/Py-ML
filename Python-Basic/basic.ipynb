{
 "cells": [
  {
   "cell_type": "markdown",
   "metadata": {},
   "source": [
    "### Data Types"
   ]
  },
  {
   "cell_type": "code",
   "execution_count": 3,
   "metadata": {},
   "outputs": [],
   "source": [
    "a = 'Hi'\n",
    "b = 23\n",
    "c = 23.1\n",
    "d = 2 + 3j\n",
    "e = True"
   ]
  },
  {
   "cell_type": "code",
   "execution_count": 18,
   "metadata": {},
   "outputs": [
    {
     "data": {
      "text/plain": [
       "int"
      ]
     },
     "execution_count": 18,
     "metadata": {},
     "output_type": "execute_result"
    }
   ],
   "source": [
    "type(a)"
   ]
  },
  {
   "cell_type": "markdown",
   "metadata": {},
   "source": [
    "### Variables "
   ]
  },
  {
   "cell_type": "code",
   "execution_count": 7,
   "metadata": {},
   "outputs": [
    {
     "data": {
      "text/plain": [
       "6"
      ]
     },
     "execution_count": 7,
     "metadata": {},
     "output_type": "execute_result"
    }
   ],
   "source": [
    "a = 5 \n",
    "b = 6\n",
    "a = b\n",
    "a"
   ]
  },
  {
   "cell_type": "code",
   "execution_count": 8,
   "metadata": {},
   "outputs": [
    {
     "data": {
      "text/plain": [
       "True"
      ]
     },
     "execution_count": 8,
     "metadata": {},
     "output_type": "execute_result"
    }
   ],
   "source": [
    "a is b"
   ]
  },
  {
   "cell_type": "code",
   "execution_count": 9,
   "metadata": {},
   "outputs": [
    {
     "data": {
      "text/plain": [
       "True"
      ]
     },
     "execution_count": 9,
     "metadata": {},
     "output_type": "execute_result"
    }
   ],
   "source": [
    "a == b"
   ]
  },
  {
   "cell_type": "markdown",
   "metadata": {},
   "source": [
    "#### Valid Name"
   ]
  },
  {
   "cell_type": "code",
   "execution_count": 16,
   "metadata": {},
   "outputs": [],
   "source": [
    "A = 'blue'\n",
    "A11 = 'Red'\n",
    "_all = 12\n",
    "#  11A = 'yelow'"
   ]
  },
  {
   "cell_type": "code",
   "execution_count": 17,
   "metadata": {},
   "outputs": [
    {
     "data": {
      "text/plain": [
       "12"
      ]
     },
     "execution_count": 17,
     "metadata": {},
     "output_type": "execute_result"
    }
   ],
   "source": [
    "_all"
   ]
  },
  {
   "cell_type": "markdown",
   "id": "e27da392",
   "metadata": {},
   "source": [
    "| Python Keywords| | | |\n",
    "|:--|:--|:--|:--|\n",
    "|`False`|`def`|`if`|`raise`|\n",
    "|`None`|`del`|`import`|`return`|\n",
    "|`True`|`elif`|`in`|`try`|\n",
    "|`and`|`else`|`is`|`while`|\n",
    "|`as`|`except`|`lambda`|`with`|\n",
    "|`assert`|`finally`|`nonlocal`|`yield`|\n",
    "|`break`|`for`|`not`|\n",
    "|`class`|`from`|`or`|\n",
    "|`continue`|`global`|`pass`|"
   ]
  },
  {
   "cell_type": "code",
   "execution_count": 19,
   "metadata": {},
   "outputs": [
    {
     "name": "stdout",
     "output_type": "stream",
     "text": [
      "\n",
      "Here is a list of the Python keywords.  Enter any keyword to get more help.\n",
      "\n",
      "False               class               from                or\n",
      "None                continue            global              pass\n",
      "True                def                 if                  raise\n",
      "and                 del                 import              return\n",
      "as                  elif                in                  try\n",
      "assert              else                is                  while\n",
      "async               except              lambda              with\n",
      "await               finally             nonlocal            yield\n",
      "break               for                 not                 \n",
      "\n"
     ]
    }
   ],
   "source": [
    "help('keywords')"
   ]
  },
  {
   "cell_type": "markdown",
   "metadata": {},
   "source": [
    "### Operators"
   ]
  },
  {
   "cell_type": "markdown",
   "id": "04837e1a",
   "metadata": {},
   "source": [
    "\n",
    "\n",
    "\n",
    "|Operator | Example | Meaning | Result|\n",
    "|:--|:--|:--|:--|\n",
    "|`+` (unary) |\t`+a`\t| **Unary Positive** | `a` In other words, it doesn’t really do anything. It mostly exists for the sake of completeness, to complement Unary Negation.|\n",
    "|`+` (binary) |\t`a + b`\t| **Addition** |\tSum of `a` and `b` |\n",
    "|`-` (unary) |\t`-a`\t| **Unary Negation** |\tValue equal to `a` but opposite in sign |\n",
    "|`-` (binary) |\t`a - b`\t| **Subtraction** | `b` subtracted from `a` |\n",
    "|`*`|\t`a * b`\t| **Multiplication** | Product of `a` and `b` |\n",
    "|`/`|\t`a / b`\t| **Division** | Quotient when `a` is divided by `b`. The result always has type float. |\n",
    "|`%`|\t`a % b`\t| **Modulo** | Remainder when `a` is divided by `b` |\n",
    "|`//`|\t`a // b`\t| **Floor Division** | (also called Integer Division)\tQuotient when `a` is divided by `b`, rounded to the next smallest whole number |\n",
    "|`**`|\t`a ** b`\t| **Exponentiation** | `a` raised to the power of `b` |"
   ]
  },
  {
   "cell_type": "code",
   "execution_count": 22,
   "metadata": {},
   "outputs": [
    {
     "data": {
      "text/plain": [
       "1.4142135623730951"
      ]
     },
     "execution_count": 22,
     "metadata": {},
     "output_type": "execute_result"
    }
   ],
   "source": [
    "2**0.5"
   ]
  },
  {
   "cell_type": "markdown",
   "id": "2fef3c6c",
   "metadata": {},
   "source": [
    "<a class=\"anchor\" id=\"comparison_operators\"></a>\n",
    "\n",
    "## Comparison Operators\n",
    "\n",
    "|Operator |\tExample |\tMeaning |\tResult |\n",
    "|:--|:--|:--|:--|\n",
    "|`==` |\t`a == b` |\t**Equal to** | `True` if the value of `a` is equal to the value of `b`. `False` otherwise |\n",
    "|`!=` |\t`a != b` |\t**Not equal to** | `True` if `a` is not equal to `b`. `False` otherwise |\n",
    "|`<` |\t`a < b` |\t**Less than** | `True` if `a` is less than `b`. `False` otherwise |\n",
    "|`<=` |\t`a <= b` |\t**Less than or equal to** | `True` if `a` is less than or equal to `b`. `False` otherwise |\n",
    "|`>` |\t`a > b` |\t**Greater than** | `True` if `a` is greater than `b`. `False` otherwise |\n",
    "|`>=` |\t`a >= b` |\t**Greater than or equal to** | `True` if `a` is greater than or equal to `b`. `False` otherwise |"
   ]
  },
  {
   "cell_type": "code",
   "execution_count": 23,
   "metadata": {},
   "outputs": [
    {
     "data": {
      "text/plain": [
       "True"
      ]
     },
     "execution_count": 23,
     "metadata": {},
     "output_type": "execute_result"
    }
   ],
   "source": [
    "10 <= 15"
   ]
  },
  {
   "cell_type": "markdown",
   "id": "86fab03a",
   "metadata": {},
   "source": [
    "|Operator |\tExample\t |Meaning |\n",
    "|:--|:--|:--|\n",
    "|`not` | `not x` | `True` if `x` is `False`. `False` if `x` is `True` (Logically reverses the sense of `x`) |\n",
    "|`or` | `x or y` | `True` if either `x` or `y` is `True`. `False` otherwise. |\n",
    "|`and` | `x and y` | `True` if both `x` and `y` are `True`. `False` otherwise. |"
   ]
  },
  {
   "cell_type": "code",
   "execution_count": 24,
   "metadata": {},
   "outputs": [
    {
     "data": {
      "text/plain": [
       "True"
      ]
     },
     "execution_count": 24,
     "metadata": {},
     "output_type": "execute_result"
    }
   ],
   "source": [
    "10 < 15 and 20 > 19"
   ]
  },
  {
   "cell_type": "markdown",
   "id": "81bb46ce",
   "metadata": {},
   "source": [
    "\n",
    "\n",
    "|Augmented Assignment || Standard Assignment |\n",
    "|:--|:--|:--|\n",
    "|`a += 5` | is equivalent to\t| `a = a + 5`|\n",
    "|`a /= 10` | is equivalent to\t| `a = a / 10`|\n",
    "|`a ^= b` | is equivalent to\t| `a = a ^ b`|"
   ]
  },
  {
   "cell_type": "code",
   "execution_count": 33,
   "metadata": {},
   "outputs": [
    {
     "name": "stdout",
     "output_type": "stream",
     "text": [
      "5\n"
     ]
    }
   ],
   "source": [
    "a = 2\n",
    "a += 3\n",
    "print(a)"
   ]
  },
  {
   "cell_type": "markdown",
   "metadata": {},
   "source": [
    "#### Containers "
   ]
  },
  {
   "cell_type": "code",
   "execution_count": 25,
   "metadata": {},
   "outputs": [
    {
     "data": {
      "text/plain": [
       "list"
      ]
     },
     "execution_count": 25,
     "metadata": {},
     "output_type": "execute_result"
    }
   ],
   "source": [
    "type([])"
   ]
  },
  {
   "cell_type": "code",
   "execution_count": 26,
   "metadata": {},
   "outputs": [
    {
     "data": {
      "text/plain": [
       "tuple"
      ]
     },
     "execution_count": 26,
     "metadata": {},
     "output_type": "execute_result"
    }
   ],
   "source": [
    "type(())"
   ]
  },
  {
   "cell_type": "code",
   "execution_count": 31,
   "metadata": {},
   "outputs": [
    {
     "data": {
      "text/plain": [
       "dict"
      ]
     },
     "execution_count": 31,
     "metadata": {},
     "output_type": "execute_result"
    }
   ],
   "source": [
    "type({})"
   ]
  },
  {
   "cell_type": "code",
   "execution_count": 30,
   "metadata": {},
   "outputs": [
    {
     "data": {
      "text/plain": [
       "dict"
      ]
     },
     "execution_count": 30,
     "metadata": {},
     "output_type": "execute_result"
    }
   ],
   "source": [
    "type({1:'one',\n",
    "      2:'two'})"
   ]
  },
  {
   "cell_type": "code",
   "execution_count": 28,
   "metadata": {},
   "outputs": [
    {
     "data": {
      "text/plain": [
       "set"
      ]
     },
     "execution_count": 28,
     "metadata": {},
     "output_type": "execute_result"
    }
   ],
   "source": [
    "type({1,2,3})"
   ]
  },
  {
   "cell_type": "markdown",
   "metadata": {},
   "source": [
    "### String Operations "
   ]
  },
  {
   "cell_type": "code",
   "execution_count": 34,
   "metadata": {},
   "outputs": [
    {
     "data": {
      "text/plain": [
       "'football'"
      ]
     },
     "execution_count": 34,
     "metadata": {},
     "output_type": "execute_result"
    }
   ],
   "source": [
    "s = 'foot'\n",
    "r = 'ball'\n",
    "s + r"
   ]
  },
  {
   "cell_type": "code",
   "execution_count": 35,
   "metadata": {},
   "outputs": [
    {
     "data": {
      "text/plain": [
       "'footfootfoot'"
      ]
     },
     "execution_count": 35,
     "metadata": {},
     "output_type": "execute_result"
    }
   ],
   "source": [
    "s * 3"
   ]
  },
  {
   "cell_type": "code",
   "execution_count": 37,
   "metadata": {},
   "outputs": [
    {
     "data": {
      "text/plain": [
       "''"
      ]
     },
     "execution_count": 37,
     "metadata": {},
     "output_type": "execute_result"
    }
   ],
   "source": [
    "s * -10"
   ]
  },
  {
   "cell_type": "markdown",
   "metadata": {},
   "source": [
    "#### in"
   ]
  },
  {
   "cell_type": "code",
   "execution_count": 39,
   "metadata": {},
   "outputs": [
    {
     "data": {
      "text/plain": [
       "False"
      ]
     },
     "execution_count": 39,
     "metadata": {},
     "output_type": "execute_result"
    }
   ],
   "source": [
    "s in 'The food.'"
   ]
  },
  {
   "cell_type": "code",
   "execution_count": 40,
   "metadata": {},
   "outputs": [
    {
     "data": {
      "text/plain": [
       "True"
      ]
     },
     "execution_count": 40,
     "metadata": {},
     "output_type": "execute_result"
    }
   ],
   "source": [
    "r not in 'The food.'"
   ]
  },
  {
   "cell_type": "markdown",
   "metadata": {},
   "source": [
    "### `len()`"
   ]
  },
  {
   "cell_type": "code",
   "execution_count": 41,
   "metadata": {},
   "outputs": [
    {
     "data": {
      "text/plain": [
       "4"
      ]
     },
     "execution_count": 41,
     "metadata": {},
     "output_type": "execute_result"
    }
   ],
   "source": [
    "len(s)"
   ]
  },
  {
   "cell_type": "code",
   "execution_count": 42,
   "metadata": {},
   "outputs": [
    {
     "data": {
      "text/plain": [
       "6"
      ]
     },
     "execution_count": 42,
     "metadata": {},
     "output_type": "execute_result"
    }
   ],
   "source": [
    "ls = [2,1,4,6,2,12]\n",
    "len(ls)"
   ]
  },
  {
   "cell_type": "markdown",
   "metadata": {},
   "source": [
    "### Str indexing"
   ]
  },
  {
   "cell_type": "code",
   "execution_count": 44,
   "metadata": {},
   "outputs": [
    {
     "data": {
      "text/plain": [
       "'foot'"
      ]
     },
     "execution_count": 44,
     "metadata": {},
     "output_type": "execute_result"
    }
   ],
   "source": [
    "s"
   ]
  },
  {
   "cell_type": "code",
   "execution_count": 45,
   "metadata": {},
   "outputs": [
    {
     "data": {
      "text/plain": [
       "'t'"
      ]
     },
     "execution_count": 45,
     "metadata": {},
     "output_type": "execute_result"
    }
   ],
   "source": [
    "s[3]"
   ]
  },
  {
   "cell_type": "code",
   "execution_count": null,
   "metadata": {},
   "outputs": [],
   "source": [
    "#  0  1  2  3  4  5 Normal indexing\n",
    "# -6 -5 -4 -3 -2 -1 Reverse Indexing"
   ]
  },
  {
   "cell_type": "code",
   "execution_count": 46,
   "metadata": {},
   "outputs": [
    {
     "data": {
      "text/plain": [
       "'t'"
      ]
     },
     "execution_count": 46,
     "metadata": {},
     "output_type": "execute_result"
    }
   ],
   "source": [
    "s[-1]"
   ]
  },
  {
   "cell_type": "markdown",
   "metadata": {},
   "source": [
    "### Slicing "
   ]
  },
  {
   "cell_type": "code",
   "execution_count": 48,
   "metadata": {},
   "outputs": [],
   "source": [
    "s = 'Blue is the most populer color'"
   ]
  },
  {
   "cell_type": "code",
   "execution_count": 50,
   "metadata": {},
   "outputs": [
    {
     "data": {
      "text/plain": [
       "'is the'"
      ]
     },
     "execution_count": 50,
     "metadata": {},
     "output_type": "execute_result"
    }
   ],
   "source": [
    "s[5:11]"
   ]
  },
  {
   "cell_type": "code",
   "execution_count": 63,
   "metadata": {},
   "outputs": [],
   "source": [
    "ls = [0,1,1,2,3,5,8,13,21,34]"
   ]
  },
  {
   "cell_type": "code",
   "execution_count": 53,
   "metadata": {},
   "outputs": [
    {
     "data": {
      "text/plain": [
       "[13, 21]"
      ]
     },
     "execution_count": 53,
     "metadata": {},
     "output_type": "execute_result"
    }
   ],
   "source": [
    "ls[7:9]"
   ]
  },
  {
   "cell_type": "code",
   "execution_count": 54,
   "metadata": {},
   "outputs": [
    {
     "data": {
      "text/plain": [
       "[0, 1, 1, 2, 3, 5, 8, 13, 21, 34]"
      ]
     },
     "execution_count": 54,
     "metadata": {},
     "output_type": "execute_result"
    }
   ],
   "source": [
    "ls[:]"
   ]
  },
  {
   "cell_type": "code",
   "execution_count": 55,
   "metadata": {},
   "outputs": [
    {
     "data": {
      "text/plain": [
       "[1, 2, 3, 5, 8, 13, 21, 34]"
      ]
     },
     "execution_count": 55,
     "metadata": {},
     "output_type": "execute_result"
    }
   ],
   "source": [
    "ls[2:]"
   ]
  },
  {
   "cell_type": "code",
   "execution_count": 56,
   "metadata": {},
   "outputs": [
    {
     "data": {
      "text/plain": [
       "[1, 2, 3, 5, 8, 13, 21, 34]"
      ]
     },
     "execution_count": 56,
     "metadata": {},
     "output_type": "execute_result"
    }
   ],
   "source": [
    "ls[2:len(ls)]"
   ]
  },
  {
   "cell_type": "code",
   "execution_count": 58,
   "metadata": {},
   "outputs": [
    {
     "data": {
      "text/plain": [
       "[1, 2, 3, 13, 21, 34]"
      ]
     },
     "execution_count": 58,
     "metadata": {},
     "output_type": "execute_result"
    }
   ],
   "source": [
    "ls[2:5] + ls[7:]"
   ]
  },
  {
   "cell_type": "code",
   "execution_count": 59,
   "metadata": {},
   "outputs": [
    {
     "ename": "TypeError",
     "evalue": "unsupported operand type(s) for -: 'list' and 'list'",
     "output_type": "error",
     "traceback": [
      "\u001b[1;31m---------------------------------------------------------------------------\u001b[0m",
      "\u001b[1;31mTypeError\u001b[0m                                 Traceback (most recent call last)",
      "\u001b[1;32mUntitled-1.ipynb Cell 52\u001b[0m in \u001b[0;36m<cell line: 1>\u001b[1;34m()\u001b[0m\n\u001b[1;32m----> <a href='vscode-notebook-cell:Untitled-1.ipynb?jupyter-notebook#Y106sdW50aXRsZWQ%3D?line=0'>1</a>\u001b[0m ls[:] \u001b[39m-\u001b[39;49m ls[\u001b[39m5\u001b[39;49m:\u001b[39m7\u001b[39;49m]\n",
      "\u001b[1;31mTypeError\u001b[0m: unsupported operand type(s) for -: 'list' and 'list'"
     ]
    }
   ],
   "source": [
    "ls[:] - ls[5:7]"
   ]
  },
  {
   "cell_type": "code",
   "execution_count": 60,
   "metadata": {},
   "outputs": [
    {
     "data": {
      "text/plain": [
       "[]"
      ]
     },
     "execution_count": 60,
     "metadata": {},
     "output_type": "execute_result"
    }
   ],
   "source": [
    "ls[4:2]"
   ]
  },
  {
   "cell_type": "code",
   "execution_count": 66,
   "metadata": {},
   "outputs": [
    {
     "data": {
      "text/plain": [
       "[]"
      ]
     },
     "execution_count": 66,
     "metadata": {},
     "output_type": "execute_result"
    }
   ],
   "source": [
    "ls[4:4]"
   ]
  },
  {
   "cell_type": "code",
   "execution_count": 67,
   "metadata": {},
   "outputs": [
    {
     "data": {
      "text/plain": [
       "3"
      ]
     },
     "execution_count": 67,
     "metadata": {},
     "output_type": "execute_result"
    }
   ],
   "source": [
    "ls[4]"
   ]
  },
  {
   "cell_type": "code",
   "execution_count": 73,
   "metadata": {},
   "outputs": [],
   "source": [
    "ls_2 = [1,2,3,4,5,6,7,8,9,10]"
   ]
  },
  {
   "cell_type": "code",
   "execution_count": 74,
   "metadata": {},
   "outputs": [
    {
     "data": {
      "text/plain": [
       "[2, 4, 6, 8]"
      ]
     },
     "execution_count": 74,
     "metadata": {},
     "output_type": "execute_result"
    }
   ],
   "source": [
    "ls_2[1:9:2]"
   ]
  },
  {
   "cell_type": "code",
   "execution_count": 75,
   "metadata": {},
   "outputs": [
    {
     "data": {
      "text/plain": [
       "[1, 4, 7, 10]"
      ]
     },
     "execution_count": 75,
     "metadata": {},
     "output_type": "execute_result"
    }
   ],
   "source": [
    "ls_2[::3]"
   ]
  },
  {
   "cell_type": "markdown",
   "metadata": {},
   "source": [
    "### f-string"
   ]
  },
  {
   "cell_type": "code",
   "execution_count": 95,
   "metadata": {},
   "outputs": [],
   "source": [
    "n = 20\n",
    "m = 25\n",
    "prod = n * m"
   ]
  },
  {
   "cell_type": "code",
   "execution_count": 96,
   "metadata": {},
   "outputs": [
    {
     "name": "stdout",
     "output_type": "stream",
     "text": [
      "The product of 20 and 25 is 500\n"
     ]
    }
   ],
   "source": [
    "print('The product of', n, 'and', m, 'is', prod)"
   ]
  },
  {
   "cell_type": "code",
   "execution_count": 97,
   "metadata": {},
   "outputs": [
    {
     "name": "stdout",
     "output_type": "stream",
     "text": [
      "The product of 20 and 25 is 500\n"
     ]
    }
   ],
   "source": [
    "print(f'The product of {n} and {m} is {prod}')"
   ]
  },
  {
   "cell_type": "markdown",
   "metadata": {},
   "source": [
    "Without f-stri9ng"
   ]
  },
  {
   "cell_type": "code",
   "execution_count": 100,
   "metadata": {},
   "outputs": [
    {
     "name": "stdout",
     "output_type": "stream",
     "text": [
      "The product of 20 and 25 is 500\n",
      "The product of 20 and 25 is 500\n",
      "The product of 20 and 25 is 500\n",
      "The product of 20 and 25 is 500\n",
      "The product of 20 and 25 is 500\n",
      "The product of 20 and 25 is 500\n",
      "The product of 20 and 25 is 500\n",
      "The product of 20 and 25 is 500\n",
      "The product of 20 and 25 is 500\n",
      "The product of 20 and 25 is 500\n",
      "The product of 20 and 25 is 500\n",
      "The product of 20 and 25 is 500\n",
      "The product of 20 and 25 is 500\n",
      "The product of 20 and 25 is 500\n",
      "The product of 20 and 25 is 500\n",
      "The product of 20 and 25 is 500\n",
      "The product of 20 and 25 is 500\n",
      "The product of 20 and 25 is 500\n",
      "The product of 20 and 25 is 500\n",
      "The product of 20 and 25 is 500\n",
      "The product of 20 and 25 is 500\n",
      "The product of 20 and 25 is 500\n",
      "The product of 20 and 25 is 500\n",
      "The product of 20 and 25 is 500\n",
      "The product of 20 and 25 is 500\n",
      "The product of 20 and 25 is 500\n",
      "The product of 20 and 25 is 500\n",
      "The product of 20 and 25 is 500\n",
      "The product of 20 and 25 is 500\n",
      "The product of 20 and 25 is 500\n",
      "The product of 20 and 25 is 500\n",
      "The product of 20 and 25 is 500\n",
      "The product of 20 and 25 is 500\n",
      "The product of 20 and 25 is 500\n",
      "The product of 20 and 25 is 500\n",
      "The product of 20 and 25 is 500\n",
      "The product of 20 and 25 is 500\n",
      "The product of 20 and 25 is 500\n",
      "The product of 20 and 25 is 500\n",
      "The product of 20 and 25 is 500\n",
      "The product of 20 and 25 is 500\n",
      "The product of 20 and 25 is 500\n",
      "The product of 20 and 25 is 500\n",
      "The product of 20 and 25 is 500\n",
      "The product of 20 and 25 is 500\n",
      "The product of 20 and 25 is 500\n",
      "The product of 20 and 25 is 500\n",
      "The product of 20 and 25 is 500\n",
      "The product of 20 and 25 is 500\n",
      "The product of 20 and 25 is 500\n",
      "The product of 20 and 25 is 500\n",
      "The product of 20 and 25 is 500\n",
      "The product of 20 and 25 is 500\n",
      "The product of 20 and 25 is 500\n",
      "The product of 20 and 25 is 500\n",
      "The product of 20 and 25 is 500\n",
      "The product of 20 and 25 is 500\n",
      "The product of 20 and 25 is 500\n",
      "The product of 20 and 25 is 500\n",
      "The product of 20 and 25 is 500\n",
      "The product of 20 and 25 is 500\n",
      "The product of 20 and 25 is 500\n",
      "The product of 20 and 25 is 500\n",
      "The product of 20 and 25 is 500\n",
      "The product of 20 and 25 is 500\n",
      "The product of 20 and 25 is 500\n",
      "The product of 20 and 25 is 500\n",
      "The product of 20 and 25 is 500\n",
      "The product of 20 and 25 is 500\n",
      "The product of 20 and 25 is 500\n",
      "The product of 20 and 25 is 500\n",
      "The product of 20 and 25 is 500\n",
      "The product of 20 and 25 is 500\n",
      "The product of 20 and 25 is 500\n",
      "The product of 20 and 25 is 500\n",
      "The product of 20 and 25 is 500\n",
      "The product of 20 and 25 is 500\n",
      "The product of 20 and 25 is 500\n",
      "The product of 20 and 25 is 500\n",
      "The product of 20 and 25 is 500\n",
      "The product of 20 and 25 is 500\n",
      "The product of 20 and 25 is 500\n",
      "The product of 20 and 25 is 500\n",
      "The product of 20 and 25 is 500\n",
      "The product of 20 and 25 is 500\n",
      "The product of 20 and 25 is 500\n",
      "The product of 20 and 25 is 500\n",
      "The product of 20 and 25 is 500\n",
      "The product of 20 and 25 is 500\n",
      "The product of 20 and 25 is 500\n",
      "The product of 20 and 25 is 500\n",
      "The product of 20 and 25 is 500\n",
      "The product of 20 and 25 is 500\n",
      "The product of 20 and 25 is 500\n",
      "The product of 20 and 25 is 500\n",
      "The product of 20 and 25 is 500\n",
      "The product of 20 and 25 is 500\n",
      "The product of 20 and 25 is 500\n",
      "The product of 20 and 25 is 500\n",
      "The product of 20 and 25 is 500\n",
      "The product of 20 and 25 is 500\n",
      "The product of 20 and 25 is 500\n",
      "The product of 20 and 25 is 500\n",
      "The product of 20 and 25 is 500\n",
      "The product of 20 and 25 is 500\n",
      "The product of 20 and 25 is 500\n",
      "The product of 20 and 25 is 500\n",
      "The product of 20 and 25 is 500\n",
      "The product of 20 and 25 is 500\n",
      "The product of 20 and 25 is 500\n",
      "The product of 20 and 25 is 500\n",
      "The product of 20 and 25 is 500\n",
      "The product of 20 and 25 is 500\n",
      "The product of 20 and 25 is 500\n",
      "The product of 20 and 25 is 500\n",
      "The product of 20 and 25 is 500\n",
      "The product of 20 and 25 is 500\n",
      "The product of 20 and 25 is 500\n",
      "The product of 20 and 25 is 500\n",
      "The product of 20 and 25 is 500\n",
      "The product of 20 and 25 is 500\n",
      "The product of 20 and 25 is 500\n",
      "The product of 20 and 25 is 500\n",
      "The product of 20 and 25 is 500\n",
      "The product of 20 and 25 is 500\n",
      "The product of 20 and 25 is 500\n",
      "The product of 20 and 25 is 500\n",
      "The product of 20 and 25 is 500\n",
      "The product of 20 and 25 is 500\n",
      "The product of 20 and 25 is 500\n",
      "The product of 20 and 25 is 500\n",
      "The product of 20 and 25 is 500\n",
      "The product of 20 and 25 is 500\n",
      "The product of 20 and 25 is 500\n",
      "The product of 20 and 25 is 500\n",
      "The product of 20 and 25 is 500\n",
      "The product of 20 and 25 is 500\n",
      "The product of 20 and 25 is 500\n",
      "The product of 20 and 25 is 500\n",
      "The product of 20 and 25 is 500\n",
      "The product of 20 and 25 is 500\n",
      "The product of 20 and 25 is 500\n",
      "The product of 20 and 25 is 500\n",
      "The product of 20 and 25 is 500\n",
      "The product of 20 and 25 is 500\n",
      "The product of 20 and 25 is 500\n",
      "The product of 20 and 25 is 500\n",
      "The product of 20 and 25 is 500\n",
      "The product of 20 and 25 is 500\n",
      "The product of 20 and 25 is 500\n",
      "The product of 20 and 25 is 500\n",
      "The product of 20 and 25 is 500\n",
      "The product of 20 and 25 is 500\n",
      "The product of 20 and 25 is 500\n",
      "The product of 20 and 25 is 500\n",
      "The product of 20 and 25 is 500\n",
      "The product of 20 and 25 is 500\n",
      "The product of 20 and 25 is 500\n",
      "The product of 20 and 25 is 500\n",
      "The product of 20 and 25 is 500\n",
      "The product of 20 and 25 is 500\n",
      "The product of 20 and 25 is 500\n",
      "The product of 20 and 25 is 500\n",
      "The product of 20 and 25 is 500\n",
      "The product of 20 and 25 is 500\n",
      "The product of 20 and 25 is 500\n",
      "The product of 20 and 25 is 500\n",
      "The product of 20 and 25 is 500\n",
      "The product of 20 and 25 is 500\n",
      "The product of 20 and 25 is 500\n",
      "The product of 20 and 25 is 500\n",
      "The product of 20 and 25 is 500\n",
      "The product of 20 and 25 is 500\n",
      "The product of 20 and 25 is 500\n",
      "The product of 20 and 25 is 500\n",
      "The product of 20 and 25 is 500\n",
      "The product of 20 and 25 is 500\n",
      "The product of 20 and 25 is 500\n",
      "The product of 20 and 25 is 500\n",
      "The product of 20 and 25 is 500\n",
      "The product of 20 and 25 is 500\n",
      "The product of 20 and 25 is 500\n",
      "The product of 20 and 25 is 500\n",
      "The product of 20 and 25 is 500\n",
      "The product of 20 and 25 is 500\n",
      "The product of 20 and 25 is 500\n",
      "The product of 20 and 25 is 500\n",
      "The product of 20 and 25 is 500\n",
      "The product of 20 and 25 is 500\n",
      "The product of 20 and 25 is 500\n",
      "The product of 20 and 25 is 500\n",
      "The product of 20 and 25 is 500\n",
      "The product of 20 and 25 is 500\n",
      "The product of 20 and 25 is 500\n",
      "The product of 20 and 25 is 500\n",
      "The product of 20 and 25 is 500\n",
      "The product of 20 and 25 is 500\n",
      "The product of 20 and 25 is 500\n",
      "The product of 20 and 25 is 500\n",
      "The product of 20 and 25 is 500\n",
      "The product of 20 and 25 is 500\n",
      "The product of 20 and 25 is 500\n",
      "The product of 20 and 25 is 500\n",
      "The product of 20 and 25 is 500\n",
      "The product of 20 and 25 is 500\n",
      "The product of 20 and 25 is 500\n",
      "The product of 20 and 25 is 500\n",
      "The product of 20 and 25 is 500\n",
      "The product of 20 and 25 is 500\n",
      "The product of 20 and 25 is 500\n",
      "The product of 20 and 25 is 500\n",
      "The product of 20 and 25 is 500\n",
      "The product of 20 and 25 is 500\n",
      "The product of 20 and 25 is 500\n",
      "The product of 20 and 25 is 500\n",
      "The product of 20 and 25 is 500\n",
      "The product of 20 and 25 is 500\n",
      "The product of 20 and 25 is 500\n",
      "The product of 20 and 25 is 500\n",
      "The product of 20 and 25 is 500\n",
      "The product of 20 and 25 is 500\n",
      "The product of 20 and 25 is 500\n",
      "The product of 20 and 25 is 500\n",
      "The product of 20 and 25 is 500\n",
      "The product of 20 and 25 is 500\n",
      "The product of 20 and 25 is 500\n",
      "The product of 20 and 25 is 500\n",
      "The product of 20 and 25 is 500\n",
      "The product of 20 and 25 is 500\n",
      "The product of 20 and 25 is 500\n",
      "The product of 20 and 25 is 500\n",
      "The product of 20 and 25 is 500\n",
      "The product of 20 and 25 is 500\n",
      "The product of 20 and 25 is 500\n",
      "The product of 20 and 25 is 500\n",
      "The product of 20 and 25 is 500\n",
      "The product of 20 and 25 is 500\n",
      "The product of 20 and 25 is 500\n",
      "The product of 20 and 25 is 500\n",
      "The product of 20 and 25 is 500\n",
      "The product of 20 and 25 is 500\n",
      "The product of 20 and 25 is 500\n",
      "The product of 20 and 25 is 500\n",
      "The product of 20 and 25 is 500\n",
      "The product of 20 and 25 is 500\n",
      "The product of 20 and 25 is 500\n",
      "The product of 20 and 25 is 500\n",
      "The product of 20 and 25 is 500\n",
      "The product of 20 and 25 is 500\n",
      "The product of 20 and 25 is 500\n",
      "The product of 20 and 25 is 500\n",
      "The product of 20 and 25 is 500\n",
      "The product of 20 and 25 is 500\n",
      "The product of 20 and 25 is 500\n",
      "The product of 20 and 25 is 500\n",
      "The product of 20 and 25 is 500\n",
      "The product of 20 and 25 is 500\n",
      "The product of 20 and 25 is 500\n",
      "The product of 20 and 25 is 500\n",
      "The product of 20 and 25 is 500\n",
      "The product of 20 and 25 is 500\n",
      "The product of 20 and 25 is 500\n",
      "The product of 20 and 25 is 500\n",
      "The product of 20 and 25 is 500\n",
      "The product of 20 and 25 is 500\n",
      "The product of 20 and 25 is 500\n",
      "The product of 20 and 25 is 500\n",
      "The product of 20 and 25 is 500\n",
      "The product of 20 and 25 is 500\n",
      "The product of 20 and 25 is 500\n",
      "The product of 20 and 25 is 500\n",
      "The product of 20 and 25 is 500\n",
      "The product of 20 and 25 is 500\n",
      "The product of 20 and 25 is 500\n",
      "The product of 20 and 25 is 500\n",
      "The product of 20 and 25 is 500\n",
      "The product of 20 and 25 is 500\n",
      "The product of 20 and 25 is 500\n",
      "The product of 20 and 25 is 500\n",
      "The product of 20 and 25 is 500\n",
      "The product of 20 and 25 is 500\n",
      "The product of 20 and 25 is 500\n",
      "The product of 20 and 25 is 500\n",
      "The product of 20 and 25 is 500\n",
      "The product of 20 and 25 is 500\n",
      "The product of 20 and 25 is 500\n",
      "The product of 20 and 25 is 500\n",
      "The product of 20 and 25 is 500\n",
      "The product of 20 and 25 is 500\n",
      "The product of 20 and 25 is 500\n",
      "The product of 20 and 25 is 500\n",
      "The product of 20 and 25 is 500\n",
      "The product of 20 and 25 is 500\n",
      "The product of 20 and 25 is 500\n",
      "The product of 20 and 25 is 500\n",
      "The product of 20 and 25 is 500\n",
      "The product of 20 and 25 is 500\n",
      "The product of 20 and 25 is 500\n",
      "The product of 20 and 25 is 500\n",
      "The product of 20 and 25 is 500\n",
      "The product of 20 and 25 is 500\n",
      "The product of 20 and 25 is 500\n",
      "The product of 20 and 25 is 500\n",
      "The product of 20 and 25 is 500\n",
      "The product of 20 and 25 is 500\n",
      "The product of 20 and 25 is 500\n",
      "The product of 20 and 25 is 500\n",
      "The product of 20 and 25 is 500\n",
      "The product of 20 and 25 is 500\n",
      "The product of 20 and 25 is 500\n",
      "The product of 20 and 25 is 500\n",
      "The product of 20 and 25 is 500\n",
      "The product of 20 and 25 is 500\n",
      "The product of 20 and 25 is 500\n",
      "The product of 20 and 25 is 500\n",
      "The product of 20 and 25 is 500\n",
      "The product of 20 and 25 is 500\n",
      "The product of 20 and 25 is 500\n",
      "The product of 20 and 25 is 500\n",
      "The product of 20 and 25 is 500\n",
      "The product of 20 and 25 is 500\n",
      "The product of 20 and 25 is 500\n",
      "The product of 20 and 25 is 500\n",
      "The product of 20 and 25 is 500\n",
      "The product of 20 and 25 is 500\n",
      "The product of 20 and 25 is 500\n",
      "The product of 20 and 25 is 500\n",
      "The product of 20 and 25 is 500\n",
      "The product of 20 and 25 is 500\n",
      "The product of 20 and 25 is 500\n",
      "The product of 20 and 25 is 500\n",
      "The product of 20 and 25 is 500\n",
      "The product of 20 and 25 is 500\n",
      "The product of 20 and 25 is 500\n",
      "The product of 20 and 25 is 500\n",
      "The product of 20 and 25 is 500\n",
      "The product of 20 and 25 is 500\n",
      "The product of 20 and 25 is 500\n",
      "The product of 20 and 25 is 500\n",
      "The product of 20 and 25 is 500\n",
      "The product of 20 and 25 is 500\n",
      "The product of 20 and 25 is 500\n",
      "The product of 20 and 25 is 500\n",
      "The product of 20 and 25 is 500\n",
      "The product of 20 and 25 is 500\n",
      "The product of 20 and 25 is 500\n",
      "The product of 20 and 25 is 500\n",
      "The product of 20 and 25 is 500\n",
      "The product of 20 and 25 is 500\n",
      "The product of 20 and 25 is 500\n",
      "The product of 20 and 25 is 500\n",
      "The product of 20 and 25 is 500\n",
      "The product of 20 and 25 is 500\n",
      "The product of 20 and 25 is 500\n",
      "The product of 20 and 25 is 500\n",
      "The product of 20 and 25 is 500\n",
      "The product of 20 and 25 is 500\n",
      "The product of 20 and 25 is 500\n",
      "The product of 20 and 25 is 500\n",
      "The product of 20 and 25 is 500\n",
      "The product of 20 and 25 is 500\n",
      "The product of 20 and 25 is 500\n",
      "The product of 20 and 25 is 500\n",
      "The product of 20 and 25 is 500\n",
      "The product of 20 and 25 is 500\n",
      "The product of 20 and 25 is 500\n",
      "The product of 20 and 25 is 500\n",
      "The product of 20 and 25 is 500\n",
      "The product of 20 and 25 is 500\n",
      "The product of 20 and 25 is 500\n",
      "The product of 20 and 25 is 500\n",
      "The product of 20 and 25 is 500\n",
      "The product of 20 and 25 is 500\n",
      "The product of 20 and 25 is 500\n",
      "The product of 20 and 25 is 500\n",
      "The product of 20 and 25 is 500\n",
      "The product of 20 and 25 is 500\n",
      "The product of 20 and 25 is 500\n",
      "The product of 20 and 25 is 500\n",
      "The product of 20 and 25 is 500\n",
      "The product of 20 and 25 is 500\n",
      "The product of 20 and 25 is 500\n",
      "The product of 20 and 25 is 500\n",
      "The product of 20 and 25 is 500\n",
      "The product of 20 and 25 is 500\n",
      "The product of 20 and 25 is 500\n",
      "The product of 20 and 25 is 500\n",
      "The product of 20 and 25 is 500\n",
      "The product of 20 and 25 is 500\n",
      "The product of 20 and 25 is 500\n",
      "The product of 20 and 25 is 500\n",
      "The product of 20 and 25 is 500\n",
      "The product of 20 and 25 is 500\n",
      "The product of 20 and 25 is 500\n",
      "The product of 20 and 25 is 500\n",
      "The product of 20 and 25 is 500\n",
      "The product of 20 and 25 is 500\n",
      "The product of 20 and 25 is 500\n",
      "The product of 20 and 25 is 500\n",
      "The product of 20 and 25 is 500\n",
      "The product of 20 and 25 is 500\n",
      "The product of 20 and 25 is 500\n",
      "The product of 20 and 25 is 500\n",
      "The product of 20 and 25 is 500\n",
      "The product of 20 and 25 is 500\n",
      "The product of 20 and 25 is 500\n",
      "The product of 20 and 25 is 500\n",
      "The product of 20 and 25 is 500\n",
      "The product of 20 and 25 is 500\n",
      "The product of 20 and 25 is 500\n",
      "The product of 20 and 25 is 500\n",
      "The product of 20 and 25 is 500\n",
      "The product of 20 and 25 is 500\n",
      "The product of 20 and 25 is 500\n",
      "The product of 20 and 25 is 500\n",
      "The product of 20 and 25 is 500\n",
      "The product of 20 and 25 is 500\n",
      "The product of 20 and 25 is 500\n",
      "The product of 20 and 25 is 500\n",
      "The product of 20 and 25 is 500\n",
      "The product of 20 and 25 is 500\n",
      "The product of 20 and 25 is 500\n",
      "The product of 20 and 25 is 500\n",
      "The product of 20 and 25 is 500\n",
      "The product of 20 and 25 is 500\n",
      "The product of 20 and 25 is 500\n",
      "The product of 20 and 25 is 500\n",
      "The product of 20 and 25 is 500\n",
      "The product of 20 and 25 is 500\n",
      "The product of 20 and 25 is 500\n",
      "The product of 20 and 25 is 500\n",
      "The product of 20 and 25 is 500\n",
      "The product of 20 and 25 is 500\n",
      "The product of 20 and 25 is 500\n",
      "The product of 20 and 25 is 500\n",
      "The product of 20 and 25 is 500\n",
      "The product of 20 and 25 is 500\n",
      "The product of 20 and 25 is 500\n",
      "The product of 20 and 25 is 500\n",
      "The product of 20 and 25 is 500\n",
      "The product of 20 and 25 is 500\n",
      "The product of 20 and 25 is 500\n",
      "The product of 20 and 25 is 500\n",
      "The product of 20 and 25 is 500\n",
      "The product of 20 and 25 is 500\n",
      "The product of 20 and 25 is 500\n",
      "The product of 20 and 25 is 500\n",
      "The product of 20 and 25 is 500\n",
      "The product of 20 and 25 is 500\n",
      "The product of 20 and 25 is 500\n",
      "The product of 20 and 25 is 500\n",
      "The product of 20 and 25 is 500\n",
      "The product of 20 and 25 is 500\n",
      "The product of 20 and 25 is 500\n",
      "The product of 20 and 25 is 500\n",
      "The product of 20 and 25 is 500\n",
      "The product of 20 and 25 is 500\n",
      "The product of 20 and 25 is 500\n",
      "The product of 20 and 25 is 500\n",
      "The product of 20 and 25 is 500\n",
      "The product of 20 and 25 is 500\n",
      "The product of 20 and 25 is 500\n",
      "The product of 20 and 25 is 500\n",
      "The product of 20 and 25 is 500\n",
      "The product of 20 and 25 is 500\n",
      "The product of 20 and 25 is 500\n",
      "The product of 20 and 25 is 500\n",
      "The product of 20 and 25 is 500\n",
      "The product of 20 and 25 is 500\n",
      "The product of 20 and 25 is 500\n",
      "The product of 20 and 25 is 500\n",
      "The product of 20 and 25 is 500\n",
      "The product of 20 and 25 is 500\n",
      "The product of 20 and 25 is 500\n",
      "The product of 20 and 25 is 500\n",
      "The product of 20 and 25 is 500\n",
      "The product of 20 and 25 is 500\n",
      "The product of 20 and 25 is 500\n",
      "The product of 20 and 25 is 500\n",
      "The product of 20 and 25 is 500\n",
      "The product of 20 and 25 is 500\n",
      "The product of 20 and 25 is 500\n",
      "The product of 20 and 25 is 500\n",
      "The product of 20 and 25 is 500\n",
      "The product of 20 and 25 is 500\n",
      "The product of 20 and 25 is 500\n",
      "The product of 20 and 25 is 500\n",
      "The product of 20 and 25 is 500\n",
      "The product of 20 and 25 is 500\n",
      "The product of 20 and 25 is 500\n",
      "The product of 20 and 25 is 500\n",
      "The product of 20 and 25 is 500\n",
      "The product of 20 and 25 is 500\n",
      "The product of 20 and 25 is 500\n",
      "The product of 20 and 25 is 500\n",
      "The product of 20 and 25 is 500\n",
      "The product of 20 and 25 is 500\n",
      "The product of 20 and 25 is 500\n",
      "The product of 20 and 25 is 500\n",
      "The product of 20 and 25 is 500\n",
      "The product of 20 and 25 is 500\n",
      "The product of 20 and 25 is 500\n",
      "The product of 20 and 25 is 500\n",
      "The product of 20 and 25 is 500\n",
      "The product of 20 and 25 is 500\n",
      "The product of 20 and 25 is 500\n",
      "The product of 20 and 25 is 500\n",
      "The product of 20 and 25 is 500\n",
      "The product of 20 and 25 is 500\n",
      "The product of 20 and 25 is 500\n",
      "The product of 20 and 25 is 500\n",
      "The product of 20 and 25 is 500\n",
      "The product of 20 and 25 is 500\n",
      "The product of 20 and 25 is 500\n",
      "The product of 20 and 25 is 500\n",
      "The product of 20 and 25 is 500\n",
      "The product of 20 and 25 is 500\n",
      "The product of 20 and 25 is 500\n",
      "The product of 20 and 25 is 500\n",
      "The product of 20 and 25 is 500\n",
      "The product of 20 and 25 is 500\n",
      "The product of 20 and 25 is 500\n",
      "The product of 20 and 25 is 500\n",
      "The product of 20 and 25 is 500\n",
      "The product of 20 and 25 is 500\n",
      "The product of 20 and 25 is 500\n",
      "The product of 20 and 25 is 500\n",
      "The product of 20 and 25 is 500\n",
      "The product of 20 and 25 is 500\n",
      "The product of 20 and 25 is 500\n",
      "The product of 20 and 25 is 500\n",
      "The product of 20 and 25 is 500\n",
      "The product of 20 and 25 is 500\n",
      "The product of 20 and 25 is 500\n",
      "The product of 20 and 25 is 500\n",
      "The product of 20 and 25 is 500\n",
      "The product of 20 and 25 is 500\n",
      "The product of 20 and 25 is 500\n",
      "The product of 20 and 25 is 500\n",
      "The product of 20 and 25 is 500\n",
      "The product of 20 and 25 is 500\n",
      "The product of 20 and 25 is 500\n",
      "The product of 20 and 25 is 500\n",
      "The product of 20 and 25 is 500\n",
      "The product of 20 and 25 is 500\n",
      "The product of 20 and 25 is 500\n",
      "The product of 20 and 25 is 500\n",
      "The product of 20 and 25 is 500\n",
      "The product of 20 and 25 is 500\n",
      "The product of 20 and 25 is 500\n",
      "The product of 20 and 25 is 500\n",
      "The product of 20 and 25 is 500\n",
      "The product of 20 and 25 is 500\n",
      "The product of 20 and 25 is 500\n",
      "The product of 20 and 25 is 500\n",
      "The product of 20 and 25 is 500\n",
      "The product of 20 and 25 is 500\n",
      "The product of 20 and 25 is 500\n",
      "The product of 20 and 25 is 500\n",
      "The product of 20 and 25 is 500\n",
      "The product of 20 and 25 is 500\n",
      "The product of 20 and 25 is 500\n",
      "The product of 20 and 25 is 500\n",
      "The product of 20 and 25 is 500\n",
      "The product of 20 and 25 is 500\n",
      "The product of 20 and 25 is 500\n",
      "The product of 20 and 25 is 500\n",
      "The product of 20 and 25 is 500\n",
      "The product of 20 and 25 is 500\n",
      "The product of 20 and 25 is 500\n",
      "The product of 20 and 25 is 500\n",
      "The product of 20 and 25 is 500\n",
      "The product of 20 and 25 is 500\n",
      "The product of 20 and 25 is 500\n",
      "The product of 20 and 25 is 500\n",
      "The product of 20 and 25 is 500\n",
      "The product of 20 and 25 is 500\n",
      "The product of 20 and 25 is 500\n",
      "The product of 20 and 25 is 500\n",
      "The product of 20 and 25 is 500\n",
      "The product of 20 and 25 is 500\n",
      "The product of 20 and 25 is 500\n",
      "The product of 20 and 25 is 500\n",
      "The product of 20 and 25 is 500\n",
      "The product of 20 and 25 is 500\n",
      "The product of 20 and 25 is 500\n",
      "The product of 20 and 25 is 500\n",
      "The product of 20 and 25 is 500\n",
      "The product of 20 and 25 is 500\n",
      "The product of 20 and 25 is 500\n",
      "The product of 20 and 25 is 500\n",
      "The product of 20 and 25 is 500\n",
      "The product of 20 and 25 is 500\n",
      "The product of 20 and 25 is 500\n",
      "The product of 20 and 25 is 500\n",
      "The product of 20 and 25 is 500\n",
      "The product of 20 and 25 is 500\n",
      "The product of 20 and 25 is 500\n",
      "The product of 20 and 25 is 500\n",
      "The product of 20 and 25 is 500\n",
      "The product of 20 and 25 is 500\n",
      "The product of 20 and 25 is 500\n",
      "The product of 20 and 25 is 500\n",
      "The product of 20 and 25 is 500\n",
      "The product of 20 and 25 is 500\n",
      "The product of 20 and 25 is 500\n",
      "The product of 20 and 25 is 500\n",
      "The product of 20 and 25 is 500\n",
      "The product of 20 and 25 is 500\n",
      "The product of 20 and 25 is 500\n",
      "The product of 20 and 25 is 500\n",
      "The product of 20 and 25 is 500\n",
      "The product of 20 and 25 is 500\n",
      "The product of 20 and 25 is 500\n",
      "The product of 20 and 25 is 500\n",
      "The product of 20 and 25 is 500\n",
      "The product of 20 and 25 is 500\n",
      "The product of 20 and 25 is 500\n",
      "The product of 20 and 25 is 500\n",
      "The product of 20 and 25 is 500\n",
      "The product of 20 and 25 is 500\n",
      "The product of 20 and 25 is 500\n",
      "The product of 20 and 25 is 500\n",
      "The product of 20 and 25 is 500\n",
      "The product of 20 and 25 is 500\n",
      "The product of 20 and 25 is 500\n",
      "The product of 20 and 25 is 500\n",
      "The product of 20 and 25 is 500\n",
      "The product of 20 and 25 is 500\n",
      "The product of 20 and 25 is 500\n",
      "The product of 20 and 25 is 500\n",
      "The product of 20 and 25 is 500\n",
      "The product of 20 and 25 is 500\n",
      "The product of 20 and 25 is 500\n",
      "The product of 20 and 25 is 500\n",
      "The product of 20 and 25 is 500\n",
      "The product of 20 and 25 is 500\n",
      "The product of 20 and 25 is 500\n",
      "The product of 20 and 25 is 500\n",
      "The product of 20 and 25 is 500\n",
      "The product of 20 and 25 is 500\n",
      "The product of 20 and 25 is 500\n",
      "The product of 20 and 25 is 500\n",
      "The product of 20 and 25 is 500\n",
      "The product of 20 and 25 is 500\n",
      "The product of 20 and 25 is 500\n",
      "The product of 20 and 25 is 500\n",
      "The product of 20 and 25 is 500\n",
      "The product of 20 and 25 is 500\n",
      "The product of 20 and 25 is 500\n",
      "The product of 20 and 25 is 500\n",
      "The product of 20 and 25 is 500\n",
      "The product of 20 and 25 is 500\n",
      "The product of 20 and 25 is 500\n",
      "The product of 20 and 25 is 500\n",
      "The product of 20 and 25 is 500\n",
      "The product of 20 and 25 is 500\n",
      "The product of 20 and 25 is 500\n",
      "The product of 20 and 25 is 500\n",
      "The product of 20 and 25 is 500\n",
      "The product of 20 and 25 is 500\n",
      "The product of 20 and 25 is 500\n",
      "The product of 20 and 25 is 500\n",
      "The product of 20 and 25 is 500\n",
      "The product of 20 and 25 is 500\n",
      "The product of 20 and 25 is 500\n",
      "The product of 20 and 25 is 500\n",
      "The product of 20 and 25 is 500\n",
      "The product of 20 and 25 is 500\n",
      "The product of 20 and 25 is 500\n",
      "The product of 20 and 25 is 500\n",
      "The product of 20 and 25 is 500\n",
      "The product of 20 and 25 is 500\n",
      "The product of 20 and 25 is 500\n",
      "The product of 20 and 25 is 500\n",
      "The product of 20 and 25 is 500\n",
      "The product of 20 and 25 is 500\n",
      "The product of 20 and 25 is 500\n",
      "The product of 20 and 25 is 500\n",
      "The product of 20 and 25 is 500\n",
      "The product of 20 and 25 is 500\n",
      "The product of 20 and 25 is 500\n",
      "The product of 20 and 25 is 500\n",
      "The product of 20 and 25 is 500\n",
      "The product of 20 and 25 is 500\n",
      "The product of 20 and 25 is 500\n",
      "The product of 20 and 25 is 500\n",
      "The product of 20 and 25 is 500\n",
      "The product of 20 and 25 is 500\n",
      "The product of 20 and 25 is 500\n",
      "The product of 20 and 25 is 500\n",
      "The product of 20 and 25 is 500\n",
      "The product of 20 and 25 is 500\n",
      "The product of 20 and 25 is 500\n",
      "The product of 20 and 25 is 500\n",
      "The product of 20 and 25 is 500\n",
      "The product of 20 and 25 is 500\n",
      "The product of 20 and 25 is 500\n",
      "The product of 20 and 25 is 500\n",
      "The product of 20 and 25 is 500\n",
      "The product of 20 and 25 is 500\n",
      "The product of 20 and 25 is 500\n",
      "The product of 20 and 25 is 500\n",
      "The product of 20 and 25 is 500\n",
      "The product of 20 and 25 is 500\n",
      "The product of 20 and 25 is 500\n",
      "The product of 20 and 25 is 500\n",
      "The product of 20 and 25 is 500\n",
      "The product of 20 and 25 is 500\n",
      "The product of 20 and 25 is 500\n",
      "The product of 20 and 25 is 500\n",
      "The product of 20 and 25 is 500\n",
      "The product of 20 and 25 is 500\n",
      "The product of 20 and 25 is 500\n",
      "The product of 20 and 25 is 500\n",
      "The product of 20 and 25 is 500\n",
      "The product of 20 and 25 is 500\n",
      "The product of 20 and 25 is 500\n",
      "The product of 20 and 25 is 500\n",
      "The product of 20 and 25 is 500\n",
      "The product of 20 and 25 is 500\n",
      "The product of 20 and 25 is 500\n",
      "The product of 20 and 25 is 500\n",
      "The product of 20 and 25 is 500\n",
      "The product of 20 and 25 is 500\n",
      "The product of 20 and 25 is 500\n",
      "The product of 20 and 25 is 500\n",
      "The product of 20 and 25 is 500\n",
      "The product of 20 and 25 is 500\n",
      "The product of 20 and 25 is 500\n",
      "The product of 20 and 25 is 500\n",
      "The product of 20 and 25 is 500\n",
      "The product of 20 and 25 is 500\n",
      "The product of 20 and 25 is 500\n",
      "The product of 20 and 25 is 500\n",
      "The product of 20 and 25 is 500\n",
      "The product of 20 and 25 is 500\n",
      "The product of 20 and 25 is 500\n",
      "The product of 20 and 25 is 500\n",
      "The product of 20 and 25 is 500\n",
      "The product of 20 and 25 is 500\n",
      "The product of 20 and 25 is 500\n",
      "The product of 20 and 25 is 500\n",
      "The product of 20 and 25 is 500\n",
      "The product of 20 and 25 is 500\n",
      "The product of 20 and 25 is 500\n",
      "The product of 20 and 25 is 500\n",
      "The product of 20 and 25 is 500\n",
      "The product of 20 and 25 is 500\n",
      "The product of 20 and 25 is 500\n",
      "The product of 20 and 25 is 500\n",
      "The product of 20 and 25 is 500\n",
      "The product of 20 and 25 is 500\n",
      "The product of 20 and 25 is 500\n",
      "The product of 20 and 25 is 500\n",
      "The product of 20 and 25 is 500\n",
      "The product of 20 and 25 is 500\n",
      "The product of 20 and 25 is 500\n",
      "The product of 20 and 25 is 500\n",
      "The product of 20 and 25 is 500\n",
      "The product of 20 and 25 is 500\n",
      "The product of 20 and 25 is 500\n",
      "The product of 20 and 25 is 500\n",
      "The product of 20 and 25 is 500\n",
      "The product of 20 and 25 is 500\n",
      "The product of 20 and 25 is 500\n",
      "The product of 20 and 25 is 500\n",
      "The product of 20 and 25 is 500\n",
      "The product of 20 and 25 is 500\n",
      "The product of 20 and 25 is 500\n",
      "The product of 20 and 25 is 500\n",
      "The product of 20 and 25 is 500\n",
      "The product of 20 and 25 is 500\n",
      "The product of 20 and 25 is 500\n",
      "The product of 20 and 25 is 500\n",
      "The product of 20 and 25 is 500\n",
      "The product of 20 and 25 is 500\n",
      "The product of 20 and 25 is 500\n",
      "The product of 20 and 25 is 500\n",
      "The product of 20 and 25 is 500\n",
      "The product of 20 and 25 is 500\n",
      "The product of 20 and 25 is 500\n",
      "The product of 20 and 25 is 500\n",
      "The product of 20 and 25 is 500\n",
      "The product of 20 and 25 is 500\n",
      "The product of 20 and 25 is 500\n",
      "The product of 20 and 25 is 500\n",
      "The product of 20 and 25 is 500\n",
      "The product of 20 and 25 is 500\n",
      "The product of 20 and 25 is 500\n",
      "The product of 20 and 25 is 500\n",
      "The product of 20 and 25 is 500\n",
      "The product of 20 and 25 is 500\n",
      "The product of 20 and 25 is 500\n",
      "The product of 20 and 25 is 500\n",
      "The product of 20 and 25 is 500\n",
      "The product of 20 and 25 is 500\n",
      "The product of 20 and 25 is 500\n",
      "The product of 20 and 25 is 500\n",
      "The product of 20 and 25 is 500\n",
      "The product of 20 and 25 is 500\n",
      "The product of 20 and 25 is 500\n",
      "The product of 20 and 25 is 500\n",
      "The product of 20 and 25 is 500\n",
      "The product of 20 and 25 is 500\n",
      "The product of 20 and 25 is 500\n",
      "The product of 20 and 25 is 500\n",
      "The product of 20 and 25 is 500\n",
      "The product of 20 and 25 is 500\n",
      "The product of 20 and 25 is 500\n",
      "The product of 20 and 25 is 500\n",
      "The product of 20 and 25 is 500\n",
      "The product of 20 and 25 is 500\n",
      "The product of 20 and 25 is 500\n",
      "The product of 20 and 25 is 500\n",
      "The product of 20 and 25 is 500\n",
      "The product of 20 and 25 is 500\n",
      "The product of 20 and 25 is 500\n",
      "The product of 20 and 25 is 500\n",
      "The product of 20 and 25 is 500\n",
      "The product of 20 and 25 is 500\n",
      "The product of 20 and 25 is 500\n",
      "The product of 20 and 25 is 500\n",
      "The product of 20 and 25 is 500\n",
      "The product of 20 and 25 is 500\n",
      "The product of 20 and 25 is 500\n",
      "The product of 20 and 25 is 500\n",
      "The product of 20 and 25 is 500\n",
      "The product of 20 and 25 is 500\n",
      "The product of 20 and 25 is 500\n",
      "The product of 20 and 25 is 500\n",
      "The product of 20 and 25 is 500\n",
      "The product of 20 and 25 is 500\n",
      "The product of 20 and 25 is 500\n",
      "The product of 20 and 25 is 500\n",
      "The product of 20 and 25 is 500\n",
      "The product of 20 and 25 is 500\n",
      "The product of 20 and 25 is 500\n",
      "The product of 20 and 25 is 500\n",
      "The product of 20 and 25 is 500\n",
      "The product of 20 and 25 is 500\n",
      "The product of 20 and 25 is 500\n",
      "The product of 20 and 25 is 500\n",
      "The product of 20 and 25 is 500\n",
      "The product of 20 and 25 is 500\n",
      "The product of 20 and 25 is 500\n",
      "The product of 20 and 25 is 500\n",
      "The product of 20 and 25 is 500\n",
      "The product of 20 and 25 is 500\n",
      "The product of 20 and 25 is 500\n",
      "The product of 20 and 25 is 500\n",
      "The product of 20 and 25 is 500\n",
      "The product of 20 and 25 is 500\n",
      "The product of 20 and 25 is 500\n",
      "The product of 20 and 25 is 500\n",
      "The product of 20 and 25 is 500\n",
      "The product of 20 and 25 is 500\n",
      "The product of 20 and 25 is 500\n",
      "The product of 20 and 25 is 500\n",
      "The product of 20 and 25 is 500\n",
      "The product of 20 and 25 is 500\n",
      "The product of 20 and 25 is 500\n",
      "The product of 20 and 25 is 500\n",
      "The product of 20 and 25 is 500\n",
      "The product of 20 and 25 is 500\n",
      "The product of 20 and 25 is 500\n",
      "The product of 20 and 25 is 500\n",
      "The product of 20 and 25 is 500\n",
      "The product of 20 and 25 is 500\n",
      "The product of 20 and 25 is 500\n",
      "The product of 20 and 25 is 500\n",
      "The product of 20 and 25 is 500\n",
      "The product of 20 and 25 is 500\n",
      "The product of 20 and 25 is 500\n",
      "The product of 20 and 25 is 500\n",
      "The product of 20 and 25 is 500\n",
      "The product of 20 and 25 is 500\n",
      "The product of 20 and 25 is 500\n",
      "The product of 20 and 25 is 500\n",
      "The product of 20 and 25 is 500\n",
      "The product of 20 and 25 is 500\n",
      "The product of 20 and 25 is 500\n",
      "The product of 20 and 25 is 500\n",
      "The product of 20 and 25 is 500\n",
      "The product of 20 and 25 is 500\n",
      "The product of 20 and 25 is 500\n",
      "The product of 20 and 25 is 500\n",
      "The product of 20 and 25 is 500\n",
      "The product of 20 and 25 is 500\n",
      "The product of 20 and 25 is 500\n",
      "The product of 20 and 25 is 500\n",
      "The product of 20 and 25 is 500\n",
      "The product of 20 and 25 is 500\n",
      "The product of 20 and 25 is 500\n",
      "The product of 20 and 25 is 500\n",
      "The product of 20 and 25 is 500\n",
      "The product of 20 and 25 is 500\n",
      "The product of 20 and 25 is 500\n",
      "The product of 20 and 25 is 500\n",
      "The product of 20 and 25 is 500\n",
      "The product of 20 and 25 is 500\n",
      "The product of 20 and 25 is 500\n",
      "The product of 20 and 25 is 500\n",
      "The product of 20 and 25 is 500\n",
      "The product of 20 and 25 is 500\n",
      "The product of 20 and 25 is 500\n",
      "The product of 20 and 25 is 500\n",
      "The product of 20 and 25 is 500\n",
      "The product of 20 and 25 is 500\n",
      "The product of 20 and 25 is 500\n",
      "The product of 20 and 25 is 500\n",
      "The product of 20 and 25 is 500\n",
      "The product of 20 and 25 is 500\n",
      "The product of 20 and 25 is 500\n",
      "The product of 20 and 25 is 500\n",
      "The product of 20 and 25 is 500\n",
      "The product of 20 and 25 is 500\n",
      "The product of 20 and 25 is 500\n",
      "The product of 20 and 25 is 500\n",
      "The product of 20 and 25 is 500\n",
      "The product of 20 and 25 is 500\n",
      "The product of 20 and 25 is 500\n",
      "The product of 20 and 25 is 500\n",
      "The product of 20 and 25 is 500\n",
      "The product of 20 and 25 is 500\n",
      "The product of 20 and 25 is 500\n",
      "The product of 20 and 25 is 500\n",
      "The product of 20 and 25 is 500\n",
      "The product of 20 and 25 is 500\n",
      "The product of 20 and 25 is 500\n",
      "The product of 20 and 25 is 500\n",
      "The product of 20 and 25 is 500\n",
      "The product of 20 and 25 is 500\n",
      "The product of 20 and 25 is 500\n",
      "The product of 20 and 25 is 500\n",
      "The product of 20 and 25 is 500\n",
      "The product of 20 and 25 is 500\n",
      "The product of 20 and 25 is 500\n",
      "The product of 20 and 25 is 500\n",
      "The product of 20 and 25 is 500\n",
      "The product of 20 and 25 is 500\n",
      "The product of 20 and 25 is 500\n",
      "The product of 20 and 25 is 500\n",
      "The product of 20 and 25 is 500\n",
      "The product of 20 and 25 is 500\n",
      "The product of 20 and 25 is 500\n",
      "The product of 20 and 25 is 500\n",
      "The product of 20 and 25 is 500\n",
      "The product of 20 and 25 is 500\n",
      "The product of 20 and 25 is 500\n",
      "The product of 20 and 25 is 500\n",
      "The product of 20 and 25 is 500\n",
      "The product of 20 and 25 is 500\n",
      "The product of 20 and 25 is 500\n",
      "The product of 20 and 25 is 500\n",
      "The product of 20 and 25 is 500\n",
      "The product of 20 and 25 is 500\n",
      "The product of 20 and 25 is 500\n",
      "The product of 20 and 25 is 500\n",
      "The product of 20 and 25 is 500\n",
      "The product of 20 and 25 is 500\n",
      "The product of 20 and 25 is 500\n",
      "The product of 20 and 25 is 500\n",
      "The product of 20 and 25 is 500\n",
      "The product of 20 and 25 is 500\n",
      "The product of 20 and 25 is 500\n",
      "The product of 20 and 25 is 500\n",
      "The product of 20 and 25 is 500\n",
      "The product of 20 and 25 is 500\n",
      "The product of 20 and 25 is 500\n",
      "The product of 20 and 25 is 500\n",
      "The product of 20 and 25 is 500\n",
      "The product of 20 and 25 is 500\n",
      "The product of 20 and 25 is 500\n",
      "The product of 20 and 25 is 500\n",
      "The product of 20 and 25 is 500\n",
      "The product of 20 and 25 is 500\n",
      "The product of 20 and 25 is 500\n",
      "The product of 20 and 25 is 500\n",
      "The product of 20 and 25 is 500\n",
      "The product of 20 and 25 is 500\n",
      "The product of 20 and 25 is 500\n",
      "The product of 20 and 25 is 500\n",
      "The product of 20 and 25 is 500\n",
      "The product of 20 and 25 is 500\n",
      "The product of 20 and 25 is 500\n",
      "The product of 20 and 25 is 500\n",
      "The product of 20 and 25 is 500\n",
      "The product of 20 and 25 is 500\n",
      "The product of 20 and 25 is 500\n",
      "The product of 20 and 25 is 500\n",
      "The product of 20 and 25 is 500\n",
      "The product of 20 and 25 is 500\n",
      "The product of 20 and 25 is 500\n",
      "The product of 20 and 25 is 500\n",
      "The product of 20 and 25 is 500\n",
      "The product of 20 and 25 is 500\n",
      "The product of 20 and 25 is 500\n",
      "The product of 20 and 25 is 500\n",
      "The product of 20 and 25 is 500\n",
      "Total runtime of the program is 0.01699233055114746\n"
     ]
    }
   ],
   "source": [
    "import time\n",
    "\n",
    "begin = time.time()\n",
    "for i in range(1000):\n",
    "    print('The product of', n, 'and', m, 'is', prod)\n",
    "end = time.time()\n",
    "print(f\"Total runtime of the program is {end - begin}\")"
   ]
  },
  {
   "cell_type": "markdown",
   "metadata": {},
   "source": [
    "f-string"
   ]
  },
  {
   "cell_type": "code",
   "execution_count": 101,
   "metadata": {},
   "outputs": [
    {
     "name": "stdout",
     "output_type": "stream",
     "text": [
      "The product of 20 and 25 is 500\n",
      "The product of 20 and 25 is 500\n",
      "The product of 20 and 25 is 500\n",
      "The product of 20 and 25 is 500\n",
      "The product of 20 and 25 is 500\n",
      "The product of 20 and 25 is 500\n",
      "The product of 20 and 25 is 500\n",
      "The product of 20 and 25 is 500\n",
      "The product of 20 and 25 is 500\n",
      "The product of 20 and 25 is 500\n",
      "The product of 20 and 25 is 500\n",
      "The product of 20 and 25 is 500\n",
      "The product of 20 and 25 is 500\n",
      "The product of 20 and 25 is 500\n",
      "The product of 20 and 25 is 500\n",
      "The product of 20 and 25 is 500\n",
      "The product of 20 and 25 is 500\n",
      "The product of 20 and 25 is 500\n",
      "The product of 20 and 25 is 500\n",
      "The product of 20 and 25 is 500\n",
      "The product of 20 and 25 is 500\n",
      "The product of 20 and 25 is 500\n",
      "The product of 20 and 25 is 500\n",
      "The product of 20 and 25 is 500\n",
      "The product of 20 and 25 is 500\n",
      "The product of 20 and 25 is 500\n",
      "The product of 20 and 25 is 500\n",
      "The product of 20 and 25 is 500\n",
      "The product of 20 and 25 is 500\n",
      "The product of 20 and 25 is 500\n",
      "The product of 20 and 25 is 500\n",
      "The product of 20 and 25 is 500\n",
      "The product of 20 and 25 is 500\n",
      "The product of 20 and 25 is 500\n",
      "The product of 20 and 25 is 500\n",
      "The product of 20 and 25 is 500\n",
      "The product of 20 and 25 is 500\n",
      "The product of 20 and 25 is 500\n",
      "The product of 20 and 25 is 500\n",
      "The product of 20 and 25 is 500\n",
      "The product of 20 and 25 is 500\n",
      "The product of 20 and 25 is 500\n",
      "The product of 20 and 25 is 500\n",
      "The product of 20 and 25 is 500\n",
      "The product of 20 and 25 is 500\n",
      "The product of 20 and 25 is 500\n",
      "The product of 20 and 25 is 500\n",
      "The product of 20 and 25 is 500\n",
      "The product of 20 and 25 is 500\n",
      "The product of 20 and 25 is 500\n",
      "The product of 20 and 25 is 500\n",
      "The product of 20 and 25 is 500\n",
      "The product of 20 and 25 is 500\n",
      "The product of 20 and 25 is 500\n",
      "The product of 20 and 25 is 500\n",
      "The product of 20 and 25 is 500\n",
      "The product of 20 and 25 is 500\n",
      "The product of 20 and 25 is 500\n",
      "The product of 20 and 25 is 500\n",
      "The product of 20 and 25 is 500\n",
      "The product of 20 and 25 is 500\n",
      "The product of 20 and 25 is 500\n",
      "The product of 20 and 25 is 500\n",
      "The product of 20 and 25 is 500\n",
      "The product of 20 and 25 is 500\n",
      "The product of 20 and 25 is 500\n",
      "The product of 20 and 25 is 500\n",
      "The product of 20 and 25 is 500\n",
      "The product of 20 and 25 is 500\n",
      "The product of 20 and 25 is 500\n",
      "The product of 20 and 25 is 500\n",
      "The product of 20 and 25 is 500\n",
      "The product of 20 and 25 is 500\n",
      "The product of 20 and 25 is 500\n",
      "The product of 20 and 25 is 500\n",
      "The product of 20 and 25 is 500\n",
      "The product of 20 and 25 is 500\n",
      "The product of 20 and 25 is 500\n",
      "The product of 20 and 25 is 500\n",
      "The product of 20 and 25 is 500\n",
      "The product of 20 and 25 is 500\n",
      "The product of 20 and 25 is 500\n",
      "The product of 20 and 25 is 500\n",
      "The product of 20 and 25 is 500\n",
      "The product of 20 and 25 is 500\n",
      "The product of 20 and 25 is 500\n",
      "The product of 20 and 25 is 500\n",
      "The product of 20 and 25 is 500\n",
      "The product of 20 and 25 is 500\n",
      "The product of 20 and 25 is 500\n",
      "The product of 20 and 25 is 500\n",
      "The product of 20 and 25 is 500\n",
      "The product of 20 and 25 is 500\n",
      "The product of 20 and 25 is 500\n",
      "The product of 20 and 25 is 500\n",
      "The product of 20 and 25 is 500\n",
      "The product of 20 and 25 is 500\n",
      "The product of 20 and 25 is 500\n",
      "The product of 20 and 25 is 500\n",
      "The product of 20 and 25 is 500\n",
      "The product of 20 and 25 is 500\n",
      "The product of 20 and 25 is 500\n",
      "The product of 20 and 25 is 500\n",
      "The product of 20 and 25 is 500\n",
      "The product of 20 and 25 is 500\n",
      "The product of 20 and 25 is 500\n",
      "The product of 20 and 25 is 500\n",
      "The product of 20 and 25 is 500\n",
      "The product of 20 and 25 is 500\n",
      "The product of 20 and 25 is 500\n",
      "The product of 20 and 25 is 500\n",
      "The product of 20 and 25 is 500\n",
      "The product of 20 and 25 is 500\n",
      "The product of 20 and 25 is 500\n",
      "The product of 20 and 25 is 500\n",
      "The product of 20 and 25 is 500\n",
      "The product of 20 and 25 is 500\n",
      "The product of 20 and 25 is 500\n",
      "The product of 20 and 25 is 500\n",
      "The product of 20 and 25 is 500\n",
      "The product of 20 and 25 is 500\n",
      "The product of 20 and 25 is 500\n",
      "The product of 20 and 25 is 500\n",
      "The product of 20 and 25 is 500\n",
      "The product of 20 and 25 is 500\n",
      "The product of 20 and 25 is 500\n",
      "The product of 20 and 25 is 500\n",
      "The product of 20 and 25 is 500\n",
      "The product of 20 and 25 is 500\n",
      "The product of 20 and 25 is 500\n",
      "The product of 20 and 25 is 500\n",
      "The product of 20 and 25 is 500\n",
      "The product of 20 and 25 is 500\n",
      "The product of 20 and 25 is 500\n",
      "The product of 20 and 25 is 500\n",
      "The product of 20 and 25 is 500\n",
      "The product of 20 and 25 is 500\n",
      "The product of 20 and 25 is 500\n",
      "The product of 20 and 25 is 500\n",
      "The product of 20 and 25 is 500\n",
      "The product of 20 and 25 is 500\n",
      "The product of 20 and 25 is 500\n",
      "The product of 20 and 25 is 500\n",
      "The product of 20 and 25 is 500\n",
      "The product of 20 and 25 is 500\n",
      "The product of 20 and 25 is 500\n",
      "The product of 20 and 25 is 500\n",
      "The product of 20 and 25 is 500\n",
      "The product of 20 and 25 is 500\n",
      "The product of 20 and 25 is 500\n",
      "The product of 20 and 25 is 500\n",
      "The product of 20 and 25 is 500\n",
      "The product of 20 and 25 is 500\n",
      "The product of 20 and 25 is 500\n",
      "The product of 20 and 25 is 500\n",
      "The product of 20 and 25 is 500\n",
      "The product of 20 and 25 is 500\n",
      "The product of 20 and 25 is 500\n",
      "The product of 20 and 25 is 500\n",
      "The product of 20 and 25 is 500\n",
      "The product of 20 and 25 is 500\n",
      "The product of 20 and 25 is 500\n",
      "The product of 20 and 25 is 500\n",
      "The product of 20 and 25 is 500\n",
      "The product of 20 and 25 is 500\n",
      "The product of 20 and 25 is 500\n",
      "The product of 20 and 25 is 500\n",
      "The product of 20 and 25 is 500\n",
      "The product of 20 and 25 is 500\n",
      "The product of 20 and 25 is 500\n",
      "The product of 20 and 25 is 500\n",
      "The product of 20 and 25 is 500\n",
      "The product of 20 and 25 is 500\n",
      "The product of 20 and 25 is 500\n",
      "The product of 20 and 25 is 500\n",
      "The product of 20 and 25 is 500\n",
      "The product of 20 and 25 is 500\n",
      "The product of 20 and 25 is 500\n",
      "The product of 20 and 25 is 500\n",
      "The product of 20 and 25 is 500\n",
      "The product of 20 and 25 is 500\n",
      "The product of 20 and 25 is 500\n",
      "The product of 20 and 25 is 500\n",
      "The product of 20 and 25 is 500\n",
      "The product of 20 and 25 is 500\n",
      "The product of 20 and 25 is 500\n",
      "The product of 20 and 25 is 500\n",
      "The product of 20 and 25 is 500\n",
      "The product of 20 and 25 is 500\n",
      "The product of 20 and 25 is 500\n",
      "The product of 20 and 25 is 500\n",
      "The product of 20 and 25 is 500\n",
      "The product of 20 and 25 is 500\n",
      "The product of 20 and 25 is 500\n",
      "The product of 20 and 25 is 500\n",
      "The product of 20 and 25 is 500\n",
      "The product of 20 and 25 is 500\n",
      "The product of 20 and 25 is 500\n",
      "The product of 20 and 25 is 500\n",
      "The product of 20 and 25 is 500\n",
      "The product of 20 and 25 is 500\n",
      "The product of 20 and 25 is 500\n",
      "The product of 20 and 25 is 500\n",
      "The product of 20 and 25 is 500\n",
      "The product of 20 and 25 is 500\n",
      "The product of 20 and 25 is 500\n",
      "The product of 20 and 25 is 500\n",
      "The product of 20 and 25 is 500\n",
      "The product of 20 and 25 is 500\n",
      "The product of 20 and 25 is 500\n",
      "The product of 20 and 25 is 500\n",
      "The product of 20 and 25 is 500\n",
      "The product of 20 and 25 is 500\n",
      "The product of 20 and 25 is 500\n",
      "The product of 20 and 25 is 500\n",
      "The product of 20 and 25 is 500\n",
      "The product of 20 and 25 is 500\n",
      "The product of 20 and 25 is 500\n",
      "The product of 20 and 25 is 500\n",
      "The product of 20 and 25 is 500\n",
      "The product of 20 and 25 is 500\n",
      "The product of 20 and 25 is 500\n",
      "The product of 20 and 25 is 500\n",
      "The product of 20 and 25 is 500\n",
      "The product of 20 and 25 is 500\n",
      "The product of 20 and 25 is 500\n",
      "The product of 20 and 25 is 500\n",
      "The product of 20 and 25 is 500\n",
      "The product of 20 and 25 is 500\n",
      "The product of 20 and 25 is 500\n",
      "The product of 20 and 25 is 500\n",
      "The product of 20 and 25 is 500\n",
      "The product of 20 and 25 is 500\n",
      "The product of 20 and 25 is 500\n",
      "The product of 20 and 25 is 500\n",
      "The product of 20 and 25 is 500\n",
      "The product of 20 and 25 is 500\n",
      "The product of 20 and 25 is 500\n",
      "The product of 20 and 25 is 500\n",
      "The product of 20 and 25 is 500\n",
      "The product of 20 and 25 is 500\n",
      "The product of 20 and 25 is 500\n",
      "The product of 20 and 25 is 500\n",
      "The product of 20 and 25 is 500\n",
      "The product of 20 and 25 is 500\n",
      "The product of 20 and 25 is 500\n",
      "The product of 20 and 25 is 500\n",
      "The product of 20 and 25 is 500\n",
      "The product of 20 and 25 is 500\n",
      "The product of 20 and 25 is 500\n",
      "The product of 20 and 25 is 500\n",
      "The product of 20 and 25 is 500\n",
      "The product of 20 and 25 is 500\n",
      "The product of 20 and 25 is 500\n",
      "The product of 20 and 25 is 500\n",
      "The product of 20 and 25 is 500\n",
      "The product of 20 and 25 is 500\n",
      "The product of 20 and 25 is 500\n",
      "The product of 20 and 25 is 500\n",
      "The product of 20 and 25 is 500\n",
      "The product of 20 and 25 is 500\n",
      "The product of 20 and 25 is 500\n",
      "The product of 20 and 25 is 500\n",
      "The product of 20 and 25 is 500\n",
      "The product of 20 and 25 is 500\n",
      "The product of 20 and 25 is 500\n",
      "The product of 20 and 25 is 500\n",
      "The product of 20 and 25 is 500\n",
      "The product of 20 and 25 is 500\n",
      "The product of 20 and 25 is 500\n",
      "The product of 20 and 25 is 500\n",
      "The product of 20 and 25 is 500\n",
      "The product of 20 and 25 is 500\n",
      "The product of 20 and 25 is 500\n",
      "The product of 20 and 25 is 500\n",
      "The product of 20 and 25 is 500\n",
      "The product of 20 and 25 is 500\n",
      "The product of 20 and 25 is 500\n",
      "The product of 20 and 25 is 500\n",
      "The product of 20 and 25 is 500\n",
      "The product of 20 and 25 is 500\n",
      "The product of 20 and 25 is 500\n",
      "The product of 20 and 25 is 500\n",
      "The product of 20 and 25 is 500\n",
      "The product of 20 and 25 is 500\n",
      "The product of 20 and 25 is 500\n",
      "The product of 20 and 25 is 500\n",
      "The product of 20 and 25 is 500\n",
      "The product of 20 and 25 is 500\n",
      "The product of 20 and 25 is 500\n",
      "The product of 20 and 25 is 500\n",
      "The product of 20 and 25 is 500\n",
      "The product of 20 and 25 is 500\n",
      "The product of 20 and 25 is 500\n",
      "The product of 20 and 25 is 500\n",
      "The product of 20 and 25 is 500\n",
      "The product of 20 and 25 is 500\n",
      "The product of 20 and 25 is 500\n",
      "The product of 20 and 25 is 500\n",
      "The product of 20 and 25 is 500\n",
      "The product of 20 and 25 is 500\n",
      "The product of 20 and 25 is 500\n",
      "The product of 20 and 25 is 500\n",
      "The product of 20 and 25 is 500\n",
      "The product of 20 and 25 is 500\n",
      "The product of 20 and 25 is 500\n",
      "The product of 20 and 25 is 500\n",
      "The product of 20 and 25 is 500\n",
      "The product of 20 and 25 is 500\n",
      "The product of 20 and 25 is 500\n",
      "The product of 20 and 25 is 500\n",
      "The product of 20 and 25 is 500\n",
      "The product of 20 and 25 is 500\n",
      "The product of 20 and 25 is 500\n",
      "The product of 20 and 25 is 500\n",
      "The product of 20 and 25 is 500\n",
      "The product of 20 and 25 is 500\n",
      "The product of 20 and 25 is 500\n",
      "The product of 20 and 25 is 500\n",
      "The product of 20 and 25 is 500\n",
      "The product of 20 and 25 is 500\n",
      "The product of 20 and 25 is 500\n",
      "The product of 20 and 25 is 500\n",
      "The product of 20 and 25 is 500\n",
      "The product of 20 and 25 is 500\n",
      "The product of 20 and 25 is 500\n",
      "The product of 20 and 25 is 500\n",
      "The product of 20 and 25 is 500\n",
      "The product of 20 and 25 is 500\n",
      "The product of 20 and 25 is 500\n",
      "The product of 20 and 25 is 500\n",
      "The product of 20 and 25 is 500\n",
      "The product of 20 and 25 is 500\n",
      "The product of 20 and 25 is 500\n",
      "The product of 20 and 25 is 500\n",
      "The product of 20 and 25 is 500\n",
      "The product of 20 and 25 is 500\n",
      "The product of 20 and 25 is 500\n",
      "The product of 20 and 25 is 500\n",
      "The product of 20 and 25 is 500\n",
      "The product of 20 and 25 is 500\n",
      "The product of 20 and 25 is 500\n",
      "The product of 20 and 25 is 500\n",
      "The product of 20 and 25 is 500\n",
      "The product of 20 and 25 is 500\n",
      "The product of 20 and 25 is 500\n",
      "The product of 20 and 25 is 500\n",
      "The product of 20 and 25 is 500\n",
      "The product of 20 and 25 is 500\n",
      "The product of 20 and 25 is 500\n",
      "The product of 20 and 25 is 500\n",
      "The product of 20 and 25 is 500\n",
      "The product of 20 and 25 is 500\n",
      "The product of 20 and 25 is 500\n",
      "The product of 20 and 25 is 500\n",
      "The product of 20 and 25 is 500\n",
      "The product of 20 and 25 is 500\n",
      "The product of 20 and 25 is 500\n",
      "The product of 20 and 25 is 500\n",
      "The product of 20 and 25 is 500\n",
      "The product of 20 and 25 is 500\n",
      "The product of 20 and 25 is 500\n",
      "The product of 20 and 25 is 500\n",
      "The product of 20 and 25 is 500\n",
      "The product of 20 and 25 is 500\n",
      "The product of 20 and 25 is 500\n",
      "The product of 20 and 25 is 500\n",
      "The product of 20 and 25 is 500\n",
      "The product of 20 and 25 is 500\n",
      "The product of 20 and 25 is 500\n",
      "The product of 20 and 25 is 500\n",
      "The product of 20 and 25 is 500\n",
      "The product of 20 and 25 is 500\n",
      "The product of 20 and 25 is 500\n",
      "The product of 20 and 25 is 500\n",
      "The product of 20 and 25 is 500\n",
      "The product of 20 and 25 is 500\n",
      "The product of 20 and 25 is 500\n",
      "The product of 20 and 25 is 500\n",
      "The product of 20 and 25 is 500\n",
      "The product of 20 and 25 is 500\n",
      "The product of 20 and 25 is 500\n",
      "The product of 20 and 25 is 500\n",
      "The product of 20 and 25 is 500\n",
      "The product of 20 and 25 is 500\n",
      "The product of 20 and 25 is 500\n",
      "The product of 20 and 25 is 500\n",
      "The product of 20 and 25 is 500\n",
      "The product of 20 and 25 is 500\n",
      "The product of 20 and 25 is 500\n",
      "The product of 20 and 25 is 500\n",
      "The product of 20 and 25 is 500\n",
      "The product of 20 and 25 is 500\n",
      "The product of 20 and 25 is 500\n",
      "The product of 20 and 25 is 500\n",
      "The product of 20 and 25 is 500\n",
      "The product of 20 and 25 is 500\n",
      "The product of 20 and 25 is 500\n",
      "The product of 20 and 25 is 500\n",
      "The product of 20 and 25 is 500\n",
      "The product of 20 and 25 is 500\n",
      "The product of 20 and 25 is 500\n",
      "The product of 20 and 25 is 500\n",
      "The product of 20 and 25 is 500\n",
      "The product of 20 and 25 is 500\n",
      "The product of 20 and 25 is 500\n",
      "The product of 20 and 25 is 500\n",
      "The product of 20 and 25 is 500\n",
      "The product of 20 and 25 is 500\n",
      "The product of 20 and 25 is 500\n",
      "The product of 20 and 25 is 500\n",
      "The product of 20 and 25 is 500\n",
      "The product of 20 and 25 is 500\n",
      "The product of 20 and 25 is 500\n",
      "The product of 20 and 25 is 500\n",
      "The product of 20 and 25 is 500\n",
      "The product of 20 and 25 is 500\n",
      "The product of 20 and 25 is 500\n",
      "The product of 20 and 25 is 500\n",
      "The product of 20 and 25 is 500\n",
      "The product of 20 and 25 is 500\n",
      "The product of 20 and 25 is 500\n",
      "The product of 20 and 25 is 500\n",
      "The product of 20 and 25 is 500\n",
      "The product of 20 and 25 is 500\n",
      "The product of 20 and 25 is 500\n",
      "The product of 20 and 25 is 500\n",
      "The product of 20 and 25 is 500\n",
      "The product of 20 and 25 is 500\n",
      "The product of 20 and 25 is 500\n",
      "The product of 20 and 25 is 500\n",
      "The product of 20 and 25 is 500\n",
      "The product of 20 and 25 is 500\n",
      "The product of 20 and 25 is 500\n",
      "The product of 20 and 25 is 500\n",
      "The product of 20 and 25 is 500\n",
      "The product of 20 and 25 is 500\n",
      "The product of 20 and 25 is 500\n",
      "The product of 20 and 25 is 500\n",
      "The product of 20 and 25 is 500\n",
      "The product of 20 and 25 is 500\n",
      "The product of 20 and 25 is 500\n",
      "The product of 20 and 25 is 500\n",
      "The product of 20 and 25 is 500\n",
      "The product of 20 and 25 is 500\n",
      "The product of 20 and 25 is 500\n",
      "The product of 20 and 25 is 500\n",
      "The product of 20 and 25 is 500\n",
      "The product of 20 and 25 is 500\n",
      "The product of 20 and 25 is 500\n",
      "The product of 20 and 25 is 500\n",
      "The product of 20 and 25 is 500\n",
      "The product of 20 and 25 is 500\n",
      "The product of 20 and 25 is 500\n",
      "The product of 20 and 25 is 500\n",
      "The product of 20 and 25 is 500\n",
      "The product of 20 and 25 is 500\n",
      "The product of 20 and 25 is 500\n",
      "The product of 20 and 25 is 500\n",
      "The product of 20 and 25 is 500\n",
      "The product of 20 and 25 is 500\n",
      "The product of 20 and 25 is 500\n",
      "The product of 20 and 25 is 500\n",
      "The product of 20 and 25 is 500\n",
      "The product of 20 and 25 is 500\n",
      "The product of 20 and 25 is 500\n",
      "The product of 20 and 25 is 500\n",
      "The product of 20 and 25 is 500\n",
      "The product of 20 and 25 is 500\n",
      "The product of 20 and 25 is 500\n",
      "The product of 20 and 25 is 500\n",
      "The product of 20 and 25 is 500\n",
      "The product of 20 and 25 is 500\n",
      "The product of 20 and 25 is 500\n",
      "The product of 20 and 25 is 500\n",
      "The product of 20 and 25 is 500\n",
      "The product of 20 and 25 is 500\n",
      "The product of 20 and 25 is 500\n",
      "The product of 20 and 25 is 500\n",
      "The product of 20 and 25 is 500\n",
      "The product of 20 and 25 is 500\n",
      "The product of 20 and 25 is 500\n",
      "The product of 20 and 25 is 500\n",
      "The product of 20 and 25 is 500\n",
      "The product of 20 and 25 is 500\n",
      "The product of 20 and 25 is 500\n",
      "The product of 20 and 25 is 500\n",
      "The product of 20 and 25 is 500\n",
      "The product of 20 and 25 is 500\n",
      "The product of 20 and 25 is 500\n",
      "The product of 20 and 25 is 500\n",
      "The product of 20 and 25 is 500\n",
      "The product of 20 and 25 is 500\n",
      "The product of 20 and 25 is 500\n",
      "The product of 20 and 25 is 500\n",
      "The product of 20 and 25 is 500\n",
      "The product of 20 and 25 is 500\n",
      "The product of 20 and 25 is 500\n",
      "The product of 20 and 25 is 500\n",
      "The product of 20 and 25 is 500\n",
      "The product of 20 and 25 is 500\n",
      "The product of 20 and 25 is 500\n",
      "The product of 20 and 25 is 500\n",
      "The product of 20 and 25 is 500\n",
      "The product of 20 and 25 is 500\n",
      "The product of 20 and 25 is 500\n",
      "The product of 20 and 25 is 500\n",
      "The product of 20 and 25 is 500\n",
      "The product of 20 and 25 is 500\n",
      "The product of 20 and 25 is 500\n",
      "The product of 20 and 25 is 500\n",
      "The product of 20 and 25 is 500\n",
      "The product of 20 and 25 is 500\n",
      "The product of 20 and 25 is 500\n",
      "The product of 20 and 25 is 500\n",
      "The product of 20 and 25 is 500\n",
      "The product of 20 and 25 is 500\n",
      "The product of 20 and 25 is 500\n",
      "The product of 20 and 25 is 500\n",
      "The product of 20 and 25 is 500\n",
      "The product of 20 and 25 is 500\n",
      "The product of 20 and 25 is 500\n",
      "The product of 20 and 25 is 500\n",
      "The product of 20 and 25 is 500\n",
      "The product of 20 and 25 is 500\n",
      "The product of 20 and 25 is 500\n",
      "The product of 20 and 25 is 500\n",
      "The product of 20 and 25 is 500\n",
      "The product of 20 and 25 is 500\n",
      "The product of 20 and 25 is 500\n",
      "The product of 20 and 25 is 500\n",
      "The product of 20 and 25 is 500\n",
      "The product of 20 and 25 is 500\n",
      "The product of 20 and 25 is 500\n",
      "The product of 20 and 25 is 500\n",
      "The product of 20 and 25 is 500\n",
      "The product of 20 and 25 is 500\n",
      "The product of 20 and 25 is 500\n",
      "The product of 20 and 25 is 500\n",
      "The product of 20 and 25 is 500\n",
      "The product of 20 and 25 is 500\n",
      "The product of 20 and 25 is 500\n",
      "The product of 20 and 25 is 500\n",
      "The product of 20 and 25 is 500\n",
      "The product of 20 and 25 is 500\n",
      "The product of 20 and 25 is 500\n",
      "The product of 20 and 25 is 500\n",
      "The product of 20 and 25 is 500\n",
      "The product of 20 and 25 is 500\n",
      "The product of 20 and 25 is 500\n",
      "The product of 20 and 25 is 500\n",
      "The product of 20 and 25 is 500\n",
      "The product of 20 and 25 is 500\n",
      "The product of 20 and 25 is 500\n",
      "The product of 20 and 25 is 500\n",
      "The product of 20 and 25 is 500\n",
      "The product of 20 and 25 is 500\n",
      "The product of 20 and 25 is 500\n",
      "The product of 20 and 25 is 500\n",
      "The product of 20 and 25 is 500\n",
      "The product of 20 and 25 is 500\n",
      "The product of 20 and 25 is 500\n",
      "The product of 20 and 25 is 500\n",
      "The product of 20 and 25 is 500\n",
      "The product of 20 and 25 is 500\n",
      "The product of 20 and 25 is 500\n",
      "The product of 20 and 25 is 500\n",
      "The product of 20 and 25 is 500\n",
      "The product of 20 and 25 is 500\n",
      "The product of 20 and 25 is 500\n",
      "The product of 20 and 25 is 500\n",
      "The product of 20 and 25 is 500\n",
      "The product of 20 and 25 is 500\n",
      "The product of 20 and 25 is 500\n",
      "The product of 20 and 25 is 500\n",
      "The product of 20 and 25 is 500\n",
      "The product of 20 and 25 is 500\n",
      "The product of 20 and 25 is 500\n",
      "The product of 20 and 25 is 500\n",
      "The product of 20 and 25 is 500\n",
      "The product of 20 and 25 is 500\n",
      "The product of 20 and 25 is 500\n",
      "The product of 20 and 25 is 500\n",
      "The product of 20 and 25 is 500\n",
      "The product of 20 and 25 is 500\n",
      "The product of 20 and 25 is 500\n",
      "The product of 20 and 25 is 500\n",
      "The product of 20 and 25 is 500\n",
      "The product of 20 and 25 is 500\n",
      "The product of 20 and 25 is 500\n",
      "The product of 20 and 25 is 500\n",
      "The product of 20 and 25 is 500\n",
      "The product of 20 and 25 is 500\n",
      "The product of 20 and 25 is 500\n",
      "The product of 20 and 25 is 500\n",
      "The product of 20 and 25 is 500\n",
      "The product of 20 and 25 is 500\n",
      "The product of 20 and 25 is 500\n",
      "The product of 20 and 25 is 500\n",
      "The product of 20 and 25 is 500\n",
      "The product of 20 and 25 is 500\n",
      "The product of 20 and 25 is 500\n",
      "The product of 20 and 25 is 500\n",
      "The product of 20 and 25 is 500\n",
      "The product of 20 and 25 is 500\n",
      "The product of 20 and 25 is 500\n",
      "The product of 20 and 25 is 500\n",
      "The product of 20 and 25 is 500\n",
      "The product of 20 and 25 is 500\n",
      "The product of 20 and 25 is 500\n",
      "The product of 20 and 25 is 500\n",
      "The product of 20 and 25 is 500\n",
      "The product of 20 and 25 is 500\n",
      "The product of 20 and 25 is 500\n",
      "The product of 20 and 25 is 500\n",
      "The product of 20 and 25 is 500\n",
      "The product of 20 and 25 is 500\n",
      "The product of 20 and 25 is 500\n",
      "The product of 20 and 25 is 500\n",
      "The product of 20 and 25 is 500\n",
      "The product of 20 and 25 is 500\n",
      "The product of 20 and 25 is 500\n",
      "The product of 20 and 25 is 500\n",
      "The product of 20 and 25 is 500\n",
      "The product of 20 and 25 is 500\n",
      "The product of 20 and 25 is 500\n",
      "The product of 20 and 25 is 500\n",
      "The product of 20 and 25 is 500\n",
      "The product of 20 and 25 is 500\n",
      "The product of 20 and 25 is 500\n",
      "The product of 20 and 25 is 500\n",
      "The product of 20 and 25 is 500\n",
      "The product of 20 and 25 is 500\n",
      "The product of 20 and 25 is 500\n",
      "The product of 20 and 25 is 500\n",
      "The product of 20 and 25 is 500\n",
      "The product of 20 and 25 is 500\n",
      "The product of 20 and 25 is 500\n",
      "The product of 20 and 25 is 500\n",
      "The product of 20 and 25 is 500\n",
      "The product of 20 and 25 is 500\n",
      "The product of 20 and 25 is 500\n",
      "The product of 20 and 25 is 500\n",
      "The product of 20 and 25 is 500\n",
      "The product of 20 and 25 is 500\n",
      "The product of 20 and 25 is 500\n",
      "The product of 20 and 25 is 500\n",
      "The product of 20 and 25 is 500\n",
      "The product of 20 and 25 is 500\n",
      "The product of 20 and 25 is 500\n",
      "The product of 20 and 25 is 500\n",
      "The product of 20 and 25 is 500\n",
      "The product of 20 and 25 is 500\n",
      "The product of 20 and 25 is 500\n",
      "The product of 20 and 25 is 500\n",
      "The product of 20 and 25 is 500\n",
      "The product of 20 and 25 is 500\n",
      "The product of 20 and 25 is 500\n",
      "The product of 20 and 25 is 500\n",
      "The product of 20 and 25 is 500\n",
      "The product of 20 and 25 is 500\n",
      "The product of 20 and 25 is 500\n",
      "The product of 20 and 25 is 500\n",
      "The product of 20 and 25 is 500\n",
      "The product of 20 and 25 is 500\n",
      "The product of 20 and 25 is 500\n",
      "The product of 20 and 25 is 500\n",
      "The product of 20 and 25 is 500\n",
      "The product of 20 and 25 is 500\n",
      "The product of 20 and 25 is 500\n",
      "The product of 20 and 25 is 500\n",
      "The product of 20 and 25 is 500\n",
      "The product of 20 and 25 is 500\n",
      "The product of 20 and 25 is 500\n",
      "The product of 20 and 25 is 500\n",
      "The product of 20 and 25 is 500\n",
      "The product of 20 and 25 is 500\n",
      "The product of 20 and 25 is 500\n",
      "The product of 20 and 25 is 500\n",
      "The product of 20 and 25 is 500\n",
      "The product of 20 and 25 is 500\n",
      "The product of 20 and 25 is 500\n",
      "The product of 20 and 25 is 500\n",
      "The product of 20 and 25 is 500\n",
      "The product of 20 and 25 is 500\n",
      "The product of 20 and 25 is 500\n",
      "The product of 20 and 25 is 500\n",
      "The product of 20 and 25 is 500\n",
      "The product of 20 and 25 is 500\n",
      "The product of 20 and 25 is 500\n",
      "The product of 20 and 25 is 500\n",
      "The product of 20 and 25 is 500\n",
      "The product of 20 and 25 is 500\n",
      "The product of 20 and 25 is 500\n",
      "The product of 20 and 25 is 500\n",
      "The product of 20 and 25 is 500\n",
      "The product of 20 and 25 is 500\n",
      "The product of 20 and 25 is 500\n",
      "The product of 20 and 25 is 500\n",
      "The product of 20 and 25 is 500\n",
      "The product of 20 and 25 is 500\n",
      "The product of 20 and 25 is 500\n",
      "The product of 20 and 25 is 500\n",
      "The product of 20 and 25 is 500\n",
      "The product of 20 and 25 is 500\n",
      "The product of 20 and 25 is 500\n",
      "The product of 20 and 25 is 500\n",
      "The product of 20 and 25 is 500\n",
      "The product of 20 and 25 is 500\n",
      "The product of 20 and 25 is 500\n",
      "The product of 20 and 25 is 500\n",
      "The product of 20 and 25 is 500\n",
      "The product of 20 and 25 is 500\n",
      "The product of 20 and 25 is 500\n",
      "The product of 20 and 25 is 500\n",
      "The product of 20 and 25 is 500\n",
      "The product of 20 and 25 is 500\n",
      "The product of 20 and 25 is 500\n",
      "The product of 20 and 25 is 500\n",
      "The product of 20 and 25 is 500\n",
      "The product of 20 and 25 is 500\n",
      "The product of 20 and 25 is 500\n",
      "The product of 20 and 25 is 500\n",
      "The product of 20 and 25 is 500\n",
      "The product of 20 and 25 is 500\n",
      "The product of 20 and 25 is 500\n",
      "The product of 20 and 25 is 500\n",
      "The product of 20 and 25 is 500\n",
      "The product of 20 and 25 is 500\n",
      "The product of 20 and 25 is 500\n",
      "The product of 20 and 25 is 500\n",
      "The product of 20 and 25 is 500\n",
      "The product of 20 and 25 is 500\n",
      "The product of 20 and 25 is 500\n",
      "The product of 20 and 25 is 500\n",
      "The product of 20 and 25 is 500\n",
      "The product of 20 and 25 is 500\n",
      "The product of 20 and 25 is 500\n",
      "The product of 20 and 25 is 500\n",
      "The product of 20 and 25 is 500\n",
      "The product of 20 and 25 is 500\n",
      "The product of 20 and 25 is 500\n",
      "The product of 20 and 25 is 500\n",
      "The product of 20 and 25 is 500\n",
      "The product of 20 and 25 is 500\n",
      "The product of 20 and 25 is 500\n",
      "The product of 20 and 25 is 500\n",
      "The product of 20 and 25 is 500\n",
      "The product of 20 and 25 is 500\n",
      "The product of 20 and 25 is 500\n",
      "The product of 20 and 25 is 500\n",
      "The product of 20 and 25 is 500\n",
      "The product of 20 and 25 is 500\n",
      "The product of 20 and 25 is 500\n",
      "The product of 20 and 25 is 500\n",
      "The product of 20 and 25 is 500\n",
      "The product of 20 and 25 is 500\n",
      "The product of 20 and 25 is 500\n",
      "The product of 20 and 25 is 500\n",
      "The product of 20 and 25 is 500\n",
      "The product of 20 and 25 is 500\n",
      "The product of 20 and 25 is 500\n",
      "The product of 20 and 25 is 500\n",
      "The product of 20 and 25 is 500\n",
      "The product of 20 and 25 is 500\n",
      "The product of 20 and 25 is 500\n",
      "The product of 20 and 25 is 500\n",
      "The product of 20 and 25 is 500\n",
      "The product of 20 and 25 is 500\n",
      "The product of 20 and 25 is 500\n",
      "The product of 20 and 25 is 500\n",
      "The product of 20 and 25 is 500\n",
      "The product of 20 and 25 is 500\n",
      "The product of 20 and 25 is 500\n",
      "The product of 20 and 25 is 500\n",
      "The product of 20 and 25 is 500\n",
      "The product of 20 and 25 is 500\n",
      "The product of 20 and 25 is 500\n",
      "The product of 20 and 25 is 500\n",
      "The product of 20 and 25 is 500\n",
      "The product of 20 and 25 is 500\n",
      "The product of 20 and 25 is 500\n",
      "The product of 20 and 25 is 500\n",
      "The product of 20 and 25 is 500\n",
      "The product of 20 and 25 is 500\n",
      "The product of 20 and 25 is 500\n",
      "The product of 20 and 25 is 500\n",
      "The product of 20 and 25 is 500\n",
      "The product of 20 and 25 is 500\n",
      "The product of 20 and 25 is 500\n",
      "The product of 20 and 25 is 500\n",
      "The product of 20 and 25 is 500\n",
      "The product of 20 and 25 is 500\n",
      "The product of 20 and 25 is 500\n",
      "The product of 20 and 25 is 500\n",
      "The product of 20 and 25 is 500\n",
      "The product of 20 and 25 is 500\n",
      "The product of 20 and 25 is 500\n",
      "The product of 20 and 25 is 500\n",
      "The product of 20 and 25 is 500\n",
      "The product of 20 and 25 is 500\n",
      "The product of 20 and 25 is 500\n",
      "The product of 20 and 25 is 500\n",
      "The product of 20 and 25 is 500\n",
      "The product of 20 and 25 is 500\n",
      "The product of 20 and 25 is 500\n",
      "The product of 20 and 25 is 500\n",
      "The product of 20 and 25 is 500\n",
      "The product of 20 and 25 is 500\n",
      "The product of 20 and 25 is 500\n",
      "The product of 20 and 25 is 500\n",
      "The product of 20 and 25 is 500\n",
      "The product of 20 and 25 is 500\n",
      "The product of 20 and 25 is 500\n",
      "The product of 20 and 25 is 500\n",
      "The product of 20 and 25 is 500\n",
      "The product of 20 and 25 is 500\n",
      "The product of 20 and 25 is 500\n",
      "The product of 20 and 25 is 500\n",
      "The product of 20 and 25 is 500\n",
      "The product of 20 and 25 is 500\n",
      "The product of 20 and 25 is 500\n",
      "The product of 20 and 25 is 500\n",
      "The product of 20 and 25 is 500\n",
      "The product of 20 and 25 is 500\n",
      "The product of 20 and 25 is 500\n",
      "The product of 20 and 25 is 500\n",
      "The product of 20 and 25 is 500\n",
      "The product of 20 and 25 is 500\n",
      "The product of 20 and 25 is 500\n",
      "The product of 20 and 25 is 500\n",
      "The product of 20 and 25 is 500\n",
      "The product of 20 and 25 is 500\n",
      "The product of 20 and 25 is 500\n",
      "The product of 20 and 25 is 500\n",
      "The product of 20 and 25 is 500\n",
      "The product of 20 and 25 is 500\n",
      "The product of 20 and 25 is 500\n",
      "The product of 20 and 25 is 500\n",
      "The product of 20 and 25 is 500\n",
      "The product of 20 and 25 is 500\n",
      "The product of 20 and 25 is 500\n",
      "The product of 20 and 25 is 500\n",
      "The product of 20 and 25 is 500\n",
      "The product of 20 and 25 is 500\n",
      "The product of 20 and 25 is 500\n",
      "The product of 20 and 25 is 500\n",
      "The product of 20 and 25 is 500\n",
      "The product of 20 and 25 is 500\n",
      "The product of 20 and 25 is 500\n",
      "The product of 20 and 25 is 500\n",
      "The product of 20 and 25 is 500\n",
      "The product of 20 and 25 is 500\n",
      "The product of 20 and 25 is 500\n",
      "The product of 20 and 25 is 500\n",
      "The product of 20 and 25 is 500\n",
      "The product of 20 and 25 is 500\n",
      "The product of 20 and 25 is 500\n",
      "The product of 20 and 25 is 500\n",
      "The product of 20 and 25 is 500\n",
      "The product of 20 and 25 is 500\n",
      "The product of 20 and 25 is 500\n",
      "The product of 20 and 25 is 500\n",
      "The product of 20 and 25 is 500\n",
      "The product of 20 and 25 is 500\n",
      "The product of 20 and 25 is 500\n",
      "The product of 20 and 25 is 500\n",
      "The product of 20 and 25 is 500\n",
      "The product of 20 and 25 is 500\n",
      "The product of 20 and 25 is 500\n",
      "The product of 20 and 25 is 500\n",
      "The product of 20 and 25 is 500\n",
      "The product of 20 and 25 is 500\n",
      "The product of 20 and 25 is 500\n",
      "The product of 20 and 25 is 500\n",
      "The product of 20 and 25 is 500\n",
      "The product of 20 and 25 is 500\n",
      "The product of 20 and 25 is 500\n",
      "The product of 20 and 25 is 500\n",
      "The product of 20 and 25 is 500\n",
      "The product of 20 and 25 is 500\n",
      "The product of 20 and 25 is 500\n",
      "The product of 20 and 25 is 500\n",
      "The product of 20 and 25 is 500\n",
      "The product of 20 and 25 is 500\n",
      "The product of 20 and 25 is 500\n",
      "The product of 20 and 25 is 500\n",
      "The product of 20 and 25 is 500\n",
      "The product of 20 and 25 is 500\n",
      "The product of 20 and 25 is 500\n",
      "The product of 20 and 25 is 500\n",
      "The product of 20 and 25 is 500\n",
      "The product of 20 and 25 is 500\n",
      "The product of 20 and 25 is 500\n",
      "The product of 20 and 25 is 500\n",
      "The product of 20 and 25 is 500\n",
      "The product of 20 and 25 is 500\n",
      "The product of 20 and 25 is 500\n",
      "The product of 20 and 25 is 500\n",
      "The product of 20 and 25 is 500\n",
      "The product of 20 and 25 is 500\n",
      "The product of 20 and 25 is 500\n",
      "The product of 20 and 25 is 500\n",
      "The product of 20 and 25 is 500\n",
      "The product of 20 and 25 is 500\n",
      "The product of 20 and 25 is 500\n",
      "The product of 20 and 25 is 500\n",
      "The product of 20 and 25 is 500\n",
      "The product of 20 and 25 is 500\n",
      "The product of 20 and 25 is 500\n",
      "The product of 20 and 25 is 500\n",
      "The product of 20 and 25 is 500\n",
      "The product of 20 and 25 is 500\n",
      "The product of 20 and 25 is 500\n",
      "The product of 20 and 25 is 500\n",
      "The product of 20 and 25 is 500\n",
      "The product of 20 and 25 is 500\n",
      "The product of 20 and 25 is 500\n",
      "The product of 20 and 25 is 500\n",
      "The product of 20 and 25 is 500\n",
      "The product of 20 and 25 is 500\n",
      "The product of 20 and 25 is 500\n",
      "The product of 20 and 25 is 500\n",
      "The product of 20 and 25 is 500\n",
      "The product of 20 and 25 is 500\n",
      "The product of 20 and 25 is 500\n",
      "The product of 20 and 25 is 500\n",
      "The product of 20 and 25 is 500\n",
      "The product of 20 and 25 is 500\n",
      "The product of 20 and 25 is 500\n",
      "The product of 20 and 25 is 500\n",
      "The product of 20 and 25 is 500\n",
      "The product of 20 and 25 is 500\n",
      "The product of 20 and 25 is 500\n",
      "The product of 20 and 25 is 500\n",
      "The product of 20 and 25 is 500\n",
      "The product of 20 and 25 is 500\n",
      "The product of 20 and 25 is 500\n",
      "The product of 20 and 25 is 500\n",
      "The product of 20 and 25 is 500\n",
      "The product of 20 and 25 is 500\n",
      "The product of 20 and 25 is 500\n",
      "The product of 20 and 25 is 500\n",
      "The product of 20 and 25 is 500\n",
      "The product of 20 and 25 is 500\n",
      "The product of 20 and 25 is 500\n",
      "The product of 20 and 25 is 500\n",
      "The product of 20 and 25 is 500\n",
      "The product of 20 and 25 is 500\n",
      "The product of 20 and 25 is 500\n",
      "The product of 20 and 25 is 500\n",
      "The product of 20 and 25 is 500\n",
      "The product of 20 and 25 is 500\n",
      "The product of 20 and 25 is 500\n",
      "The product of 20 and 25 is 500\n",
      "The product of 20 and 25 is 500\n",
      "The product of 20 and 25 is 500\n",
      "The product of 20 and 25 is 500\n",
      "The product of 20 and 25 is 500\n",
      "The product of 20 and 25 is 500\n",
      "The product of 20 and 25 is 500\n",
      "The product of 20 and 25 is 500\n",
      "The product of 20 and 25 is 500\n",
      "The product of 20 and 25 is 500\n",
      "The product of 20 and 25 is 500\n",
      "The product of 20 and 25 is 500\n",
      "The product of 20 and 25 is 500\n",
      "The product of 20 and 25 is 500\n",
      "The product of 20 and 25 is 500\n",
      "The product of 20 and 25 is 500\n",
      "The product of 20 and 25 is 500\n",
      "The product of 20 and 25 is 500\n",
      "The product of 20 and 25 is 500\n",
      "The product of 20 and 25 is 500\n",
      "The product of 20 and 25 is 500\n",
      "The product of 20 and 25 is 500\n",
      "The product of 20 and 25 is 500\n",
      "The product of 20 and 25 is 500\n",
      "The product of 20 and 25 is 500\n",
      "The product of 20 and 25 is 500\n",
      "The product of 20 and 25 is 500\n",
      "The product of 20 and 25 is 500\n",
      "The product of 20 and 25 is 500\n",
      "The product of 20 and 25 is 500\n",
      "The product of 20 and 25 is 500\n",
      "The product of 20 and 25 is 500\n",
      "The product of 20 and 25 is 500\n",
      "The product of 20 and 25 is 500\n",
      "The product of 20 and 25 is 500\n",
      "The product of 20 and 25 is 500\n",
      "The product of 20 and 25 is 500\n",
      "The product of 20 and 25 is 500\n",
      "The product of 20 and 25 is 500\n",
      "The product of 20 and 25 is 500\n",
      "The product of 20 and 25 is 500\n",
      "The product of 20 and 25 is 500\n",
      "The product of 20 and 25 is 500\n",
      "The product of 20 and 25 is 500\n",
      "The product of 20 and 25 is 500\n",
      "The product of 20 and 25 is 500\n",
      "Total runtime of the program is 0.003998517990112305\n"
     ]
    }
   ],
   "source": [
    "import time\n",
    "\n",
    "begin = time.time()\n",
    "for i in range(1000):\n",
    "    print(f'The product of {n} and {m} is {prod}')\n",
    "end = time.time()\n",
    "print(f\"Total runtime of the program is {end - begin}\")"
   ]
  },
  {
   "cell_type": "markdown",
   "metadata": {},
   "source": [
    "### List and tuple"
   ]
  },
  {
   "cell_type": "code",
   "execution_count": 1,
   "metadata": {},
   "outputs": [],
   "source": [
    "# list \n",
    "ls = [3,2,5,6,1]\n",
    "# tuple \n",
    "tp = (3,2,5,6,1)"
   ]
  },
  {
   "cell_type": "code",
   "execution_count": 2,
   "metadata": {},
   "outputs": [
    {
     "data": {
      "text/plain": [
       "5"
      ]
     },
     "execution_count": 2,
     "metadata": {},
     "output_type": "execute_result"
    }
   ],
   "source": [
    "ls[2]"
   ]
  },
  {
   "cell_type": "code",
   "execution_count": 3,
   "metadata": {},
   "outputs": [
    {
     "data": {
      "text/plain": [
       "5"
      ]
     },
     "execution_count": 3,
     "metadata": {},
     "output_type": "execute_result"
    }
   ],
   "source": [
    "tp[2]"
   ]
  },
  {
   "cell_type": "code",
   "execution_count": 5,
   "metadata": {},
   "outputs": [
    {
     "data": {
      "text/plain": [
       "True"
      ]
     },
     "execution_count": 5,
     "metadata": {},
     "output_type": "execute_result"
    }
   ],
   "source": [
    "tp[2] == ls[2]"
   ]
  },
  {
   "cell_type": "code",
   "execution_count": 4,
   "metadata": {},
   "outputs": [
    {
     "data": {
      "text/plain": [
       "False"
      ]
     },
     "execution_count": 4,
     "metadata": {},
     "output_type": "execute_result"
    }
   ],
   "source": [
    "tp == ls"
   ]
  },
  {
   "cell_type": "markdown",
   "metadata": {},
   "source": [
    "# 1. lists are ordered"
   ]
  },
  {
   "cell_type": "code",
   "execution_count": 6,
   "metadata": {},
   "outputs": [
    {
     "name": "stdout",
     "output_type": "stream",
     "text": [
      "False\n",
      "False\n"
     ]
    }
   ],
   "source": [
    "x = [1, 2, 3]\n",
    "y = [3, 2, 1]\n",
    "\n",
    "print(x == y)\n",
    "print(x is y)"
   ]
  },
  {
   "cell_type": "code",
   "execution_count": 7,
   "metadata": {},
   "outputs": [
    {
     "name": "stdout",
     "output_type": "stream",
     "text": [
      "True\n",
      "False\n"
     ]
    }
   ],
   "source": [
    "x = [1, 2, 3]\n",
    "y = [1, 2, 3]\n",
    "\n",
    "print(x == y)\n",
    "print(x is y)"
   ]
  },
  {
   "cell_type": "code",
   "execution_count": 8,
   "metadata": {},
   "outputs": [
    {
     "name": "stdout",
     "output_type": "stream",
     "text": [
      "True\n",
      "True\n"
     ]
    }
   ],
   "source": [
    "x = [1, 2, 3]\n",
    "y = x\n",
    "\n",
    "print(x == y)\n",
    "print(x is y)"
   ]
  },
  {
   "cell_type": "code",
   "execution_count": 9,
   "metadata": {},
   "outputs": [
    {
     "data": {
      "text/plain": [
       "False"
      ]
     },
     "execution_count": 9,
     "metadata": {},
     "output_type": "execute_result"
    }
   ],
   "source": [
    "a = ['foo', 'bar', 'baz', 'qux']\n",
    "b = ['baz', 'qux', 'bar', 'foo']\n",
    "a == b"
   ]
  },
  {
   "cell_type": "code",
   "execution_count": 10,
   "metadata": {},
   "outputs": [
    {
     "data": {
      "text/plain": [
       "False"
      ]
     },
     "execution_count": 10,
     "metadata": {},
     "output_type": "execute_result"
    }
   ],
   "source": [
    "[1, 2, 3, 4] == [4, 1, 3, 2]"
   ]
  },
  {
   "cell_type": "markdown",
   "metadata": {},
   "source": [
    "### 2. a list can contain any assortment of objects. The elements of a list can all be the same type:"
   ]
  },
  {
   "cell_type": "code",
   "execution_count": 12,
   "metadata": {},
   "outputs": [],
   "source": [
    "a = [21.42, 'French', 3, 4, 'London', False, 3.14159]"
   ]
  },
  {
   "cell_type": "markdown",
   "metadata": {},
   "source": [
    "### List objects needn’t be unique. A given object can appear in a list multiple times:\n"
   ]
  },
  {
   "cell_type": "code",
   "execution_count": 13,
   "metadata": {},
   "outputs": [],
   "source": [
    "a = [1,1,2,3,4,4,5,5,5]"
   ]
  },
  {
   "cell_type": "markdown",
   "metadata": {},
   "source": [
    "### 3. list elements can be accessed by index"
   ]
  },
  {
   "cell_type": "code",
   "execution_count": 15,
   "metadata": {},
   "outputs": [
    {
     "data": {
      "text/plain": [
       "5"
      ]
     },
     "execution_count": 15,
     "metadata": {},
     "output_type": "execute_result"
    }
   ],
   "source": [
    "a[7]"
   ]
  },
  {
   "cell_type": "markdown",
   "metadata": {},
   "source": [
    "### 4. Lists are mutable"
   ]
  },
  {
   "cell_type": "code",
   "execution_count": 38,
   "metadata": {},
   "outputs": [],
   "source": [
    "ls = ['a','b','c']"
   ]
  },
  {
   "cell_type": "code",
   "execution_count": 39,
   "metadata": {},
   "outputs": [],
   "source": [
    "ls.append('d')"
   ]
  },
  {
   "cell_type": "code",
   "execution_count": 40,
   "metadata": {},
   "outputs": [
    {
     "data": {
      "text/plain": [
       "['a', 'b', 'c', 'd']"
      ]
     },
     "execution_count": 40,
     "metadata": {},
     "output_type": "execute_result"
    }
   ],
   "source": [
    "ls"
   ]
  },
  {
   "cell_type": "code",
   "execution_count": 41,
   "metadata": {},
   "outputs": [],
   "source": [
    "ls.insert(2,'e')"
   ]
  },
  {
   "cell_type": "code",
   "execution_count": 42,
   "metadata": {},
   "outputs": [
    {
     "data": {
      "text/plain": [
       "['a', 'b', 'e', 'c', 'd']"
      ]
     },
     "execution_count": 42,
     "metadata": {},
     "output_type": "execute_result"
    }
   ],
   "source": [
    "ls"
   ]
  },
  {
   "cell_type": "code",
   "execution_count": 44,
   "metadata": {},
   "outputs": [],
   "source": [
    "ls.remove('d')"
   ]
  },
  {
   "cell_type": "code",
   "execution_count": 45,
   "metadata": {},
   "outputs": [
    {
     "data": {
      "text/plain": [
       "['a', 'b', 'e', 'c']"
      ]
     },
     "execution_count": 45,
     "metadata": {},
     "output_type": "execute_result"
    }
   ],
   "source": [
    "ls"
   ]
  },
  {
   "cell_type": "code",
   "execution_count": 46,
   "metadata": {},
   "outputs": [],
   "source": [
    "ls.reverse()"
   ]
  },
  {
   "cell_type": "code",
   "execution_count": 47,
   "metadata": {},
   "outputs": [
    {
     "data": {
      "text/plain": [
       "['c', 'e', 'b', 'a']"
      ]
     },
     "execution_count": 47,
     "metadata": {},
     "output_type": "execute_result"
    }
   ],
   "source": [
    "ls"
   ]
  },
  {
   "cell_type": "markdown",
   "metadata": {},
   "source": [
    "Tuple has same propertis with list but is immutable"
   ]
  },
  {
   "cell_type": "code",
   "execution_count": 48,
   "metadata": {},
   "outputs": [],
   "source": [
    "tp = ('a','b','c')"
   ]
  },
  {
   "cell_type": "code",
   "execution_count": 49,
   "metadata": {},
   "outputs": [
    {
     "ename": "AttributeError",
     "evalue": "'tuple' object has no attribute 'append'",
     "output_type": "error",
     "traceback": [
      "\u001b[1;31m---------------------------------------------------------------------------\u001b[0m",
      "\u001b[1;31mAttributeError\u001b[0m                            Traceback (most recent call last)",
      "\u001b[1;32me:\\Educational\\M.Sc\\Geo. Sta. & Res. Modeling\\1401\\py\\1.ipynb Cell 96\u001b[0m in \u001b[0;36m<cell line: 1>\u001b[1;34m()\u001b[0m\n\u001b[1;32m----> <a href='vscode-notebook-cell:/e%3A/Educational/M.Sc/Geo.%20Sta.%20%26%20Res.%20Modeling/1401/py/1.ipynb#Y215sZmlsZQ%3D%3D?line=0'>1</a>\u001b[0m tp\u001b[39m.\u001b[39;49mappend()\n",
      "\u001b[1;31mAttributeError\u001b[0m: 'tuple' object has no attribute 'append'"
     ]
    }
   ],
   "source": [
    "tp.append()"
   ]
  },
  {
   "cell_type": "code",
   "execution_count": 50,
   "metadata": {},
   "outputs": [
    {
     "ename": "AttributeError",
     "evalue": "'tuple' object has no attribute 'reversed'",
     "output_type": "error",
     "traceback": [
      "\u001b[1;31m---------------------------------------------------------------------------\u001b[0m",
      "\u001b[1;31mAttributeError\u001b[0m                            Traceback (most recent call last)",
      "\u001b[1;32me:\\Educational\\M.Sc\\Geo. Sta. & Res. Modeling\\1401\\py\\1.ipynb Cell 97\u001b[0m in \u001b[0;36m<cell line: 1>\u001b[1;34m()\u001b[0m\n\u001b[1;32m----> <a href='vscode-notebook-cell:/e%3A/Educational/M.Sc/Geo.%20Sta.%20%26%20Res.%20Modeling/1401/py/1.ipynb#Y216sZmlsZQ%3D%3D?line=0'>1</a>\u001b[0m tp\u001b[39m.\u001b[39;49mreversed()\n",
      "\u001b[1;31mAttributeError\u001b[0m: 'tuple' object has no attribute 'reversed'"
     ]
    }
   ],
   "source": [
    "tp.reversed()"
   ]
  },
  {
   "cell_type": "markdown",
   "metadata": {},
   "source": [
    "# Conditions"
   ]
  },
  {
   "cell_type": "code",
   "execution_count": 63,
   "metadata": {},
   "outputs": [],
   "source": [
    "if 10 in [1, 2, 3, 4]:\n",
    "    print('Hi')"
   ]
  },
  {
   "cell_type": "code",
   "execution_count": 52,
   "metadata": {},
   "outputs": [
    {
     "name": "stdout",
     "output_type": "stream",
     "text": [
      "Hello Joe\n"
     ]
    }
   ],
   "source": [
    "name = 'Joe'\n",
    "if name == 'Fred':\n",
    "    print('Hello Fred')\n",
    "elif name == 'Xander':\n",
    "    print('Hello Xander')\n",
    "elif name == 'Joe':\n",
    "    print('Hello Joe')\n",
    "elif name == 'Arnold':\n",
    "    print('Hello Arnold')\n",
    "else:\n",
    "    print(\"I don't know who you are!\")"
   ]
  },
  {
   "cell_type": "markdown",
   "metadata": {},
   "source": [
    "#### while (infinte loop)"
   ]
  },
  {
   "cell_type": "code",
   "execution_count": 53,
   "metadata": {},
   "outputs": [
    {
     "name": "stdout",
     "output_type": "stream",
     "text": [
      "4\n",
      "3\n",
      "2\n",
      "1\n",
      "0\n"
     ]
    }
   ],
   "source": [
    "n = 5\n",
    "while n > 0:\n",
    "    n -= 1\n",
    "    print(n)"
   ]
  },
  {
   "cell_type": "code",
   "execution_count": 64,
   "metadata": {},
   "outputs": [
    {
     "name": "stdout",
     "output_type": "stream",
     "text": [
      "green\n",
      "['red', 'blue']\n",
      "blue\n",
      "['red']\n",
      "red\n",
      "[]\n"
     ]
    }
   ],
   "source": [
    "a = ['red', 'blue', 'green']\n",
    "while a:\n",
    "    print(a.pop(-1))\n",
    "    print(a)"
   ]
  },
  {
   "cell_type": "markdown",
   "metadata": {},
   "source": [
    "### break and continue"
   ]
  },
  {
   "cell_type": "code",
   "execution_count": 60,
   "metadata": {},
   "outputs": [
    {
     "name": "stdout",
     "output_type": "stream",
     "text": [
      "4\n",
      "3\n",
      "Loop ended.\n"
     ]
    }
   ],
   "source": [
    "n = 5\n",
    "while n > 0:\n",
    "    n -= 1\n",
    "    if n == 2:\n",
    "        break\n",
    "    print(n)\n",
    "print('Loop ended.')"
   ]
  },
  {
   "cell_type": "code",
   "execution_count": 61,
   "metadata": {},
   "outputs": [
    {
     "name": "stdout",
     "output_type": "stream",
     "text": [
      "4\n",
      "3\n",
      "1\n",
      "0\n",
      "Loop ended.\n"
     ]
    }
   ],
   "source": [
    "n = 5\n",
    "while n > 0:\n",
    "    n -= 1\n",
    "    if n == 2:\n",
    "        continue\n",
    "    print(n)\n",
    "print('Loop ended.')"
   ]
  },
  {
   "cell_type": "markdown",
   "metadata": {},
   "source": [
    "#### for (finite loop)"
   ]
  },
  {
   "cell_type": "code",
   "execution_count": 65,
   "metadata": {},
   "outputs": [
    {
     "name": "stdout",
     "output_type": "stream",
     "text": [
      "blue\n",
      "red\n",
      "green\n"
     ]
    }
   ],
   "source": [
    "a = ['blue', 'red', 'green']\n",
    "for i in a:\n",
    "    print(i)"
   ]
  },
  {
   "cell_type": "markdown",
   "metadata": {},
   "source": [
    "### range()"
   ]
  },
  {
   "cell_type": "code",
   "execution_count": 77,
   "metadata": {},
   "outputs": [],
   "source": [
    "a = range(10)"
   ]
  },
  {
   "cell_type": "code",
   "execution_count": 78,
   "metadata": {},
   "outputs": [
    {
     "data": {
      "text/plain": [
       "range"
      ]
     },
     "execution_count": 78,
     "metadata": {},
     "output_type": "execute_result"
    }
   ],
   "source": [
    "type(a)"
   ]
  },
  {
   "cell_type": "code",
   "execution_count": 79,
   "metadata": {},
   "outputs": [
    {
     "data": {
      "text/plain": [
       "[0, 1, 2, 3, 4, 5, 6, 7, 8, 9]"
      ]
     },
     "execution_count": 79,
     "metadata": {},
     "output_type": "execute_result"
    }
   ],
   "source": [
    "list(range(10))"
   ]
  },
  {
   "cell_type": "code",
   "execution_count": 80,
   "metadata": {},
   "outputs": [
    {
     "data": {
      "text/plain": [
       "range(0, 10, 2)"
      ]
     },
     "execution_count": 80,
     "metadata": {},
     "output_type": "execute_result"
    }
   ],
   "source": [
    "range(0,10,2)"
   ]
  },
  {
   "cell_type": "code",
   "execution_count": 81,
   "metadata": {},
   "outputs": [
    {
     "name": "stdout",
     "output_type": "stream",
     "text": [
      "0\n",
      "1\n",
      "2\n",
      "3\n",
      "4\n",
      "5\n",
      "6\n",
      "7\n",
      "8\n",
      "9\n"
     ]
    }
   ],
   "source": [
    "for i in range(10):\n",
    "    print(i)"
   ]
  },
  {
   "cell_type": "code",
   "execution_count": 82,
   "metadata": {},
   "outputs": [
    {
     "name": "stdout",
     "output_type": "stream",
     "text": [
      "0\n",
      "1\n",
      "2\n",
      "3\n",
      "4\n",
      "5\n",
      "6\n",
      "7\n",
      "8\n",
      "9\n",
      "10\n"
     ]
    }
   ],
   "source": [
    "for i in [0,1,2,3,4,5,6,7,8,9,10]:\n",
    "    print(i)"
   ]
  },
  {
   "cell_type": "markdown",
   "metadata": {},
   "source": [
    "### def -- funtions"
   ]
  },
  {
   "cell_type": "code",
   "execution_count": 83,
   "metadata": {},
   "outputs": [],
   "source": [
    "def concat(a, b, separator):\n",
    "    print(f\"{a}{separator}{b}\")"
   ]
  },
  {
   "cell_type": "code",
   "execution_count": 85,
   "metadata": {},
   "outputs": [
    {
     "name": "stdout",
     "output_type": "stream",
     "text": [
      "Milad__Asghari\n"
     ]
    }
   ],
   "source": [
    "concat('Milad', 'Asghari', '__')"
   ]
  },
  {
   "cell_type": "code",
   "execution_count": 86,
   "metadata": {},
   "outputs": [],
   "source": [
    "def fibo(n):\n",
    "    if n in {0,1}:\n",
    "        return n\n",
    "    return fibo(n-1) + fibo(n-2)"
   ]
  },
  {
   "cell_type": "code",
   "execution_count": 87,
   "metadata": {},
   "outputs": [
    {
     "data": {
      "text/plain": [
       "5"
      ]
     },
     "execution_count": 87,
     "metadata": {},
     "output_type": "execute_result"
    }
   ],
   "source": [
    "fibo(5)"
   ]
  },
  {
   "cell_type": "code",
   "execution_count": 89,
   "metadata": {},
   "outputs": [
    {
     "data": {
      "text/plain": [
       "[0, 1, 1, 2, 3, 5, 8, 13, 21, 34]"
      ]
     },
     "execution_count": 89,
     "metadata": {},
     "output_type": "execute_result"
    }
   ],
   "source": [
    "[fibo(i) for i in range(10)]"
   ]
  }
 ],
 "metadata": {
  "kernelspec": {
   "display_name": "Python 3.10.2 64-bit",
   "language": "python",
   "name": "python3"
  },
  "language_info": {
   "codemirror_mode": {
    "name": "ipython",
    "version": 3
   },
   "file_extension": ".py",
   "mimetype": "text/x-python",
   "name": "python",
   "nbconvert_exporter": "python",
   "pygments_lexer": "ipython3",
   "version": "3.10.2"
  },
  "orig_nbformat": 4,
  "vscode": {
   "interpreter": {
    "hash": "26de051ba29f2982a8de78e945f0abaf191376122a1563185a90213a26c5da77"
   }
  }
 },
 "nbformat": 4,
 "nbformat_minor": 2
}
