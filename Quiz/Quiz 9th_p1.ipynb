{
 "cells": [
  {
   "cell_type": "code",
   "execution_count": 3,
   "metadata": {},
   "outputs": [
    {
     "name": "stdout",
     "output_type": "stream",
     "text": [
      "[1, 0.2, 0.3, 0.4, 0.5]\n"
     ]
    }
   ],
   "source": [
    "x , i = 10, 1\n",
    "y = [1, 2.0, 3, 4.0, 5]\n",
    "while i < len(y):\n",
    "    y[i] /=  x\n",
    "    i += 1\n",
    "print(y)    "
   ]
  },
  {
   "cell_type": "code",
   "execution_count": 4,
   "metadata": {},
   "outputs": [
    {
     "name": "stdout",
     "output_type": "stream",
     "text": [
      "{1, 2, 3, 4, 5, 6}\n"
     ]
    }
   ],
   "source": [
    "x = [1, 3, 5]\n",
    "y = [2, 4, 3]\n",
    "z = [3, 5, 6]\n",
    "a = set(x + y + z)\n",
    "print(a)"
   ]
  },
  {
   "cell_type": "code",
   "execution_count": 6,
   "metadata": {},
   "outputs": [
    {
     "name": "stdout",
     "output_type": "stream",
     "text": [
      "94\n"
     ]
    }
   ],
   "source": [
    "x = [2, 4, 5, 7, 3, 2]\n",
    "y = 0\n",
    "for i in range(len(x)):\n",
    "        y += x[i] * x[-1 + i]\n",
    "print(y)"
   ]
  },
  {
   "cell_type": "code",
   "execution_count": 14,
   "metadata": {},
   "outputs": [
    {
     "name": "stdout",
     "output_type": "stream",
     "text": [
      "2\n",
      "3\n",
      "4\n",
      "8\n"
     ]
    }
   ],
   "source": [
    "for n in range(1, 5):\n",
    "    for i in range(1,n):\n",
    "        if n % i == 0:\n",
    "            print(n * i)"
   ]
  },
  {
   "cell_type": "code",
   "execution_count": 7,
   "metadata": {},
   "outputs": [
    {
     "data": {
      "text/plain": [
       "\"They Don'T Know Who'Ll Win\""
      ]
     },
     "execution_count": 7,
     "metadata": {},
     "output_type": "execute_result"
    }
   ],
   "source": [
    "\"they don\\'t know who\\'ll win\".title()"
   ]
  },
  {
   "cell_type": "code",
   "execution_count": 15,
   "metadata": {},
   "outputs": [
    {
     "name": "stdout",
     "output_type": "stream",
     "text": [
      "[1, 2, 3, 4, 5, 7]\n"
     ]
    }
   ],
   "source": [
    "a = [3, 4, 5, 6, 7]\n",
    "a[:4] = [1, 2, 3, 4, 5]\n",
    "print(a)"
   ]
  },
  {
   "cell_type": "code",
   "execution_count": 16,
   "metadata": {},
   "outputs": [
    {
     "name": "stdout",
     "output_type": "stream",
     "text": [
      "3\n",
      "{0: 1, 1: 2, 2: 3}\n"
     ]
    }
   ],
   "source": [
    "x = {0:1, 1:2, 2:3, 1:2, 2:3, 0:1}\n",
    "print(len(x))\n",
    "print(x)"
   ]
  },
  {
   "cell_type": "code",
   "execution_count": 21,
   "metadata": {},
   "outputs": [
    {
     "name": "stdout",
     "output_type": "stream",
     "text": [
      "2\n"
     ]
    }
   ],
   "source": [
    "p = [2, 1, 0][bool(0)]\n",
    "# bool(0) = False, list(False) = 0\n",
    "print(p)"
   ]
  },
  {
   "cell_type": "code",
   "execution_count": 16,
   "metadata": {},
   "outputs": [
    {
     "name": "stdout",
     "output_type": "stream",
     "text": [
      "I am in!\n"
     ]
    }
   ],
   "source": [
    "x, y, z = 1, 0, 1\n",
    "#x = True\n",
    "#y = False\n",
    "#z = True\n",
    "if x or y and z :\n",
    "    print (\"I am in!\")\n",
    "else:\n",
    "    print (\"I am not!\")"
   ]
  },
  {
   "cell_type": "code",
   "execution_count": 22,
   "metadata": {},
   "outputs": [
    {
     "name": "stdout",
     "output_type": "stream",
     "text": [
      "0\n"
     ]
    }
   ],
   "source": [
    "for k in range(0, -1,-1):\n",
    "    print(k)"
   ]
  },
  {
   "cell_type": "code",
   "execution_count": 34,
   "metadata": {},
   "outputs": [
    {
     "name": "stdout",
     "output_type": "stream",
     "text": [
      "0:1:2:3:"
     ]
    }
   ],
   "source": [
    "n = {1, 3, 2, 0, 0, 2, 1}\n",
    "for x in n:\n",
    "    print(x, end=':')"
   ]
  },
  {
   "cell_type": "code",
   "execution_count": 27,
   "metadata": {},
   "outputs": [
    {
     "ename": "KeyError",
     "evalue": "'x'",
     "output_type": "error",
     "traceback": [
      "\u001b[1;31m---------------------------------------------------------------------------\u001b[0m",
      "\u001b[1;31mKeyError\u001b[0m                                  Traceback (most recent call last)",
      "\u001b[1;32me:\\Educational\\M.Sc\\AHelli\\cl\\Python-Quiz-Notebooks-main\\Python-Quiz-Notebooks-main\\Quiz #3.ipynb Cell 12\u001b[0m in \u001b[0;36m<cell line: 2>\u001b[1;34m()\u001b[0m\n\u001b[0;32m      <a href='vscode-notebook-cell:/e%3A/Educational/M.Sc/AHelli/cl/Python-Quiz-Notebooks-main/Python-Quiz-Notebooks-main/Quiz%20%233.ipynb#X15sZmlsZQ%3D%3D?line=0'>1</a>\u001b[0m p \u001b[39m=\u001b[39m {\u001b[39m0\u001b[39m: \u001b[39m'\u001b[39m\u001b[39mx\u001b[39m\u001b[39m'\u001b[39m, \u001b[39m1\u001b[39m: \u001b[39m'\u001b[39m\u001b[39my\u001b[39m\u001b[39m'\u001b[39m, \u001b[39m2\u001b[39m: \u001b[39m'\u001b[39m\u001b[39mz\u001b[39m\u001b[39m'\u001b[39m}\n\u001b[0;32m      <a href='vscode-notebook-cell:/e%3A/Educational/M.Sc/AHelli/cl/Python-Quiz-Notebooks-main/Python-Quiz-Notebooks-main/Quiz%20%233.ipynb#X15sZmlsZQ%3D%3D?line=1'>2</a>\u001b[0m \u001b[39mfor\u001b[39;00m i \u001b[39min\u001b[39;00m p\u001b[39m.\u001b[39mvalues():\n\u001b[1;32m----> <a href='vscode-notebook-cell:/e%3A/Educational/M.Sc/AHelli/cl/Python-Quiz-Notebooks-main/Python-Quiz-Notebooks-main/Quiz%20%233.ipynb#X15sZmlsZQ%3D%3D?line=2'>3</a>\u001b[0m     \u001b[39mprint\u001b[39m(p[i])\n",
      "\u001b[1;31mKeyError\u001b[0m: 'x'"
     ]
    }
   ],
   "source": [
    "p = {0: 'x', 1: 'y', 2: 'z'}\n",
    "for i in p.values():\n",
    "    print(p[i])"
   ]
  },
  {
   "cell_type": "code",
   "execution_count": 28,
   "metadata": {},
   "outputs": [
    {
     "name": "stdout",
     "output_type": "stream",
     "text": [
      "{2, 3, 4, 5}\n"
     ]
    }
   ],
   "source": [
    "s = {2, 3, 4, 3, 5, 2}\n",
    "for i in s:\n",
    "    s.add(i)\n",
    "print(s)"
   ]
  },
  {
   "cell_type": "code",
   "execution_count": 29,
   "metadata": {
    "scrolled": true
   },
   "outputs": [
    {
     "ename": "AttributeError",
     "evalue": "'frozenset' object has no attribute 'remove'",
     "output_type": "error",
     "traceback": [
      "\u001b[1;31m---------------------------------------------------------------------------\u001b[0m",
      "\u001b[1;31mAttributeError\u001b[0m                            Traceback (most recent call last)",
      "\u001b[1;32me:\\Educational\\M.Sc\\AHelli\\cl\\Python-Quiz-Notebooks-main\\Python-Quiz-Notebooks-main\\Quiz #3.ipynb Cell 14\u001b[0m in \u001b[0;36m<cell line: 2>\u001b[1;34m()\u001b[0m\n\u001b[0;32m      <a href='vscode-notebook-cell:/e%3A/Educational/M.Sc/AHelli/cl/Python-Quiz-Notebooks-main/Python-Quiz-Notebooks-main/Quiz%20%233.ipynb#X20sZmlsZQ%3D%3D?line=0'>1</a>\u001b[0m s \u001b[39m=\u001b[39m \u001b[39mfrozenset\u001b[39m({\u001b[39m1\u001b[39m, \u001b[39m2\u001b[39m, \u001b[39m3\u001b[39m, \u001b[39m4\u001b[39m, \u001b[39m5\u001b[39m})\n\u001b[1;32m----> <a href='vscode-notebook-cell:/e%3A/Educational/M.Sc/AHelli/cl/Python-Quiz-Notebooks-main/Python-Quiz-Notebooks-main/Quiz%20%233.ipynb#X20sZmlsZQ%3D%3D?line=1'>2</a>\u001b[0m s\u001b[39m.\u001b[39;49mremove(\u001b[39m3\u001b[39m)\n\u001b[0;32m      <a href='vscode-notebook-cell:/e%3A/Educational/M.Sc/AHelli/cl/Python-Quiz-Notebooks-main/Python-Quiz-Notebooks-main/Quiz%20%233.ipynb#X20sZmlsZQ%3D%3D?line=2'>3</a>\u001b[0m \u001b[39mprint\u001b[39m(s)\n",
      "\u001b[1;31mAttributeError\u001b[0m: 'frozenset' object has no attribute 'remove'"
     ]
    }
   ],
   "source": [
    "s = frozenset({1, 2, 3, 4, 5})\n",
    "s.remove(3)\n",
    "print(s)"
   ]
  },
  {
   "cell_type": "code",
   "execution_count": 12,
   "metadata": {},
   "outputs": [
    {
     "name": "stdout",
     "output_type": "stream",
     "text": [
      "[(1, 3), (1, 4), (2, 3), (2, 4)]\n"
     ]
    }
   ],
   "source": [
    "x = [1, 2]\n",
    "y = [3, 4]\n",
    "z = [(i, j) for i in x for j in y]\n",
    "print(z)"
   ]
  },
  {
   "cell_type": "code",
   "execution_count": 31,
   "metadata": {},
   "outputs": [
    {
     "name": "stdout",
     "output_type": "stream",
     "text": [
      "{1, 2, 3, 4, 5, 6}\n"
     ]
    }
   ],
   "source": [
    "x = ({1, 2}, {3, 4}, {5, 6}, {1, 4}, {2, 5})\n",
    "y = {i for s in x for i in s}\n",
    "print(y)"
   ]
  },
  {
   "cell_type": "code",
   "execution_count": 34,
   "metadata": {},
   "outputs": [
    {
     "name": "stdout",
     "output_type": "stream",
     "text": [
      "[(0, 'p'), (1, 'y'), (2, 't'), (3, 'h'), (4, 'o'), (5, 'n')]\n"
     ]
    }
   ],
   "source": [
    "s = \"python\"\n",
    "p = [i for i in enumerate(s)]\n",
    "print(p)"
   ]
  },
  {
   "cell_type": "code",
   "execution_count": 8,
   "metadata": {},
   "outputs": [
    {
     "data": {
      "text/plain": [
       "[0, 1, 1, 2, 3, 5, 8]"
      ]
     },
     "execution_count": 8,
     "metadata": {},
     "output_type": "execute_result"
    }
   ],
   "source": [
    "def fib(n):\n",
    "    res = []\n",
    "    a,b = 0, 1\n",
    "    while a < n:\n",
    "        res.append(a)\n",
    "        a, b = b, a + b\n",
    "    return res\n",
    "fib(10)"
   ]
  },
  {
   "cell_type": "code",
   "execution_count": 4,
   "metadata": {},
   "outputs": [
    {
     "name": "stdout",
     "output_type": "stream",
     "text": [
      "Set Go Get\n"
     ]
    }
   ],
   "source": [
    "x = '{1} {2} {0}'.format('Get', 'Set', 'Go')\n",
    "print(x)"
   ]
  },
  {
   "cell_type": "code",
   "execution_count": 6,
   "metadata": {
    "scrolled": true
   },
   "outputs": [
    {
     "name": "stdout",
     "output_type": "stream",
     "text": [
      "lEARN pYTHON\n"
     ]
    }
   ],
   "source": [
    "x = 'Learn Python'\n",
    "print(x.swapcase())"
   ]
  },
  {
   "cell_type": "code",
   "execution_count": 32,
   "metadata": {},
   "outputs": [
    {
     "name": "stdout",
     "output_type": "stream",
     "text": [
      "PAYATAHAOAN\n"
     ]
    }
   ],
   "source": [
    "x = \"A\"\n",
    "print(x.join('PYTHON'))"
   ]
  },
  {
   "cell_type": "code",
   "execution_count": 1,
   "metadata": {},
   "outputs": [
    {
     "name": "stdout",
     "output_type": "stream",
     "text": [
      "112212"
     ]
    }
   ],
   "source": [
    "x = 1\n",
    "while x < 3:\n",
    "    print(x, end='')\n",
    "    x += 1\n",
    "    y = 1\n",
    "    while y < 3:\n",
    "        print(y, end =\"\")\n",
    "        y += 1"
   ]
  },
  {
   "cell_type": "code",
   "execution_count": null,
   "metadata": {},
   "outputs": [
    {
     "name": "stdout",
     "output_type": "stream",
     "text": [
      "400"
     ]
    }
   ],
   "source": [
    "def mul(x, y, z=10):\n",
    "    print(x * y * z, end ='')\n",
    "a, b, c = 5, 4, 8\n",
    "mul(a, c)"
   ]
  },
  {
   "cell_type": "code",
   "execution_count": null,
   "metadata": {},
   "outputs": [
    {
     "data": {
      "text/plain": [
       "{2, 3, 4, 5}"
      ]
     },
     "metadata": {},
     "output_type": "display_data"
    }
   ],
   "source": [
    "a = {2, 3, 4, 5, 6}\n",
    "b = {1, 2, 3, 4, 5}\n",
    "a.intersection(b)"
   ]
  },
  {
   "cell_type": "code",
   "execution_count": null,
   "metadata": {},
   "outputs": [
    {
     "name": "stdout",
     "output_type": "stream",
     "text": [
      "24\n"
     ]
    }
   ],
   "source": [
    "def arth(x=2, y=4):\n",
    "    print(x**y*y)\n",
    "arth(y=3)    "
   ]
  },
  {
   "cell_type": "code",
   "execution_count": null,
   "metadata": {},
   "outputs": [
    {
     "name": "stdout",
     "output_type": "stream",
     "text": [
      "{'x': 1, 'y': 1, 'z': 1}\n"
     ]
    }
   ],
   "source": [
    "d = {k:1 for k in 'xyz'}\n",
    "print(d)"
   ]
  },
  {
   "cell_type": "code",
   "execution_count": null,
   "metadata": {},
   "outputs": [
    {
     "name": "stdout",
     "output_type": "stream",
     "text": [
      "False\n"
     ]
    }
   ],
   "source": [
    "d = { }\n",
    "if d:\n",
    "    print(True)\n",
    "else:\n",
    "    print(False)"
   ]
  },
  {
   "cell_type": "code",
   "execution_count": null,
   "metadata": {},
   "outputs": [
    {
     "name": "stdout",
     "output_type": "stream",
     "text": [
      "1223"
     ]
    }
   ],
   "source": [
    "def func(*x):\n",
    "    for i in x:\n",
    "        print(i//2, end='')\n",
    "func(3,4,5,6)"
   ]
  },
  {
   "cell_type": "code",
   "execution_count": null,
   "metadata": {},
   "outputs": [
    {
     "name": "stdout",
     "output_type": "stream",
     "text": [
      "True\n",
      "False\n"
     ]
    }
   ],
   "source": [
    "def dcheck(list):\n",
    " if len(list) == len(set(list)):\n",
    "   return True\n",
    " else:\n",
    "   return False\n",
    "print(dcheck([1,6,5,8]))     #Prints True\n",
    "print(dcheck([2,2,5,5,7,8])) #Prints False"
   ]
  },
  {
   "cell_type": "code",
   "execution_count": 3,
   "metadata": {},
   "outputs": [
    {
     "name": "stdout",
     "output_type": "stream",
     "text": [
      "[0, 3, 6] [1, 4, 7] [2, 5, 8]\n"
     ]
    }
   ],
   "source": [
    "a = [[0, 3, 6], [1, 4, 7], [2, 5, 8]]\n",
    "print(*a)"
   ]
  },
  {
   "cell_type": "code",
   "execution_count": null,
   "metadata": {},
   "outputs": [
    {
     "name": "stdout",
     "output_type": "stream",
     "text": [
      "[]\n"
     ]
    }
   ],
   "source": [
    "x = [5, 4, 3, 2, 1, 0]\n",
    "x.clear()\n",
    "print(x)"
   ]
  },
  {
   "cell_type": "code",
   "execution_count": 8,
   "metadata": {},
   "outputs": [
    {
     "name": "stdout",
     "output_type": "stream",
     "text": [
      "[0, 5, 25]\n"
     ]
    }
   ],
   "source": [
    "a = [int(i**3//5) for i in range(1,7,2)]\n",
    "print(a)"
   ]
  },
  {
   "cell_type": "code",
   "execution_count": null,
   "metadata": {},
   "outputs": [
    {
     "data": {
      "text/plain": [
       "'David'"
      ]
     },
     "metadata": {},
     "output_type": "display_data"
    }
   ],
   "source": [
    "class Employee:\n",
    "    def __init__(self, name):\n",
    "        self.name = name\n",
    "x = Employee(\"David\")\n",
    "x.name"
   ]
  },
  {
   "cell_type": "code",
   "execution_count": null,
   "metadata": {},
   "outputs": [
    {
     "name": "stdout",
     "output_type": "stream",
     "text": [
      "Three\n"
     ]
    }
   ],
   "source": [
    "x = y = z = 0\n",
    "if x or y:\n",
    "    print ('One')\n",
    "elif not x and (not y and z):\n",
    "    print ('Two')\n",
    "elif (not x or y) or (y and x):\n",
    "    print ('Three')\n",
    "else:\n",
    "    print ('Four')"
   ]
  },
  {
   "cell_type": "code",
   "execution_count": null,
   "metadata": {},
   "outputs": [
    {
     "name": "stdout",
     "output_type": "stream",
     "text": [
      "24 20\n"
     ]
    }
   ],
   "source": [
    "i= 2\n",
    "esum = osum  = 0\n",
    "while i < 10:\n",
    "    if i % 2 == 0:\n",
    "        esum+=i\n",
    "    else:\n",
    "        osum+=i\n",
    "    i+=1\n",
    "print(osum, esum)"
   ]
  },
  {
   "cell_type": "code",
   "execution_count": null,
   "metadata": {},
   "outputs": [
    {
     "name": "stdout",
     "output_type": "stream",
     "text": [
      "False True\n"
     ]
    }
   ],
   "source": [
    "x = [False, None, True]\n",
    "x.remove(None)\n",
    "a, b  = x\n",
    "print(a, b)"
   ]
  },
  {
   "cell_type": "code",
   "execution_count": 20,
   "metadata": {},
   "outputs": [
    {
     "name": "stdout",
     "output_type": "stream",
     "text": [
      "3\n"
     ]
    }
   ],
   "source": [
    "x = {'a':1, 'b':2, 'c':3}\n",
    "print(x.get('c'))"
   ]
  },
  {
   "cell_type": "code",
   "execution_count": 24,
   "metadata": {},
   "outputs": [
    {
     "name": "stdout",
     "output_type": "stream",
     "text": [
      "['a', 'b', 'A', 'B']\n"
     ]
    }
   ],
   "source": [
    "x = ['a', 'b', 'A', 'B']\n",
    "x.sort(key=str.swapcase)\n",
    "print(x)"
   ]
  },
  {
   "cell_type": "code",
   "execution_count": 29,
   "metadata": {},
   "outputs": [
    {
     "name": "stdout",
     "output_type": "stream",
     "text": [
      "[45, 54, 65, 85]\n",
      "<class 'list'>\n",
      "<class 'set'>\n"
     ]
    }
   ],
   "source": [
    "marks = {85, 45, 54, 97, 65, 87}\n",
    "s = sorted(marks)[:4]\n",
    "print(s)\n",
    "print(type(s))\n",
    "print(type(marks))"
   ]
  },
  {
   "cell_type": "code",
   "execution_count": 32,
   "metadata": {},
   "outputs": [
    {
     "data": {
      "text/plain": [
       "[97]"
      ]
     },
     "execution_count": 32,
     "metadata": {},
     "output_type": "execute_result"
    }
   ],
   "source": [
    "marks = [[35, 25], [64, 37, 15], [97]]\n",
    "min(marks, key=len)"
   ]
  },
  {
   "cell_type": "code",
   "execution_count": 33,
   "metadata": {},
   "outputs": [
    {
     "name": "stdout",
     "output_type": "stream",
     "text": [
      "[(1, 2), (2, 1)]\n"
     ]
    }
   ],
   "source": [
    "x = [1, 2]\n",
    "y = [2, 1]\n",
    "z = [(a, b) for a in x for b in y if a!=b]\n",
    "print(z)"
   ]
  },
  {
   "cell_type": "code",
   "execution_count": 34,
   "metadata": {},
   "outputs": [
    {
     "name": "stdout",
     "output_type": "stream",
     "text": [
      "20\n"
     ]
    }
   ],
   "source": [
    "def cal:\n",
    "    a = 5\n",
    "    b = 4\n",
    "    print(a * b)\n",
    "cal()    "
   ]
  },
  {
   "cell_type": "code",
   "execution_count": 35,
   "metadata": {},
   "outputs": [
    {
     "name": "stdout",
     "output_type": "stream",
     "text": [
      "100 240\n",
      "40 100\n",
      "20 40\n",
      "0 20\n"
     ]
    }
   ],
   "source": [
    "def sum(x,y):\n",
    "    while y:\n",
    "        x,y = y, x % y\n",
    "        print (y, x)\n",
    "sum(100,240)"
   ]
  }
 ],
 "metadata": {
  "kernelspec": {
   "display_name": "Python 3",
   "language": "python",
   "name": "python3"
  },
  "language_info": {
   "codemirror_mode": {
    "name": "ipython",
    "version": 3
   },
   "file_extension": ".py",
   "mimetype": "text/x-python",
   "name": "python",
   "nbconvert_exporter": "python",
   "pygments_lexer": "ipython3",
   "version": "3.10.2"
  },
  "vscode": {
   "interpreter": {
    "hash": "26de051ba29f2982a8de78e945f0abaf191376122a1563185a90213a26c5da77"
   }
  }
 },
 "nbformat": 4,
 "nbformat_minor": 4
}
