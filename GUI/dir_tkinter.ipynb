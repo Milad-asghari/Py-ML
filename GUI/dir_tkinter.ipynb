{
 "cells": [
  {
   "cell_type": "code",
   "execution_count": 7,
   "metadata": {},
   "outputs": [],
   "source": [
    "from tkinter import * \n",
    "import webbrowser\n",
    "\n",
    "\n",
    "def photo() :\n",
    "    webbrowser.open(\"file:///E:/Photo\")\n",
    "def music() :\n",
    "    webbrowser.open(\"file:///E:/Music\")\n",
    "def animation() :\n",
    "    webbrowser.open(\"file:///E:/Animation\")\n",
    "def software() :\n",
    "    webbrowser.open(\"file:///E:/Software\")\n",
    "root=Tk()\n",
    "\n",
    "\n",
    "button1 = Button(root,text=\"Photo\",command=photo()).pack()\n",
    "button2 = Button(root,text=\"Music\",command=music()).pack()\n",
    "button3 = Button(root,text=\"Animation\",command=animation()).pack()\n",
    "button4 = Button(root,text=\"Software\",command=software()).pack()\n",
    "root.mainloop()"
   ]
  },
  {
   "cell_type": "code",
   "execution_count": 10,
   "metadata": {},
   "outputs": [],
   "source": [
    "from tkinter import *\n",
    "import webbrowser\n",
    "\n",
    "def callback(dir):\n",
    "    webbrowser.open(dir)\n",
    "\n",
    "root = Tk()\n",
    "root.title(\"Directory\")\n",
    "root.geometry(\"300x180\")\n",
    "\n",
    "bt1 = Button(root, text=\"Photo\")\n",
    "bt1.pack()\n",
    "bt1.bind(\"<Button-1>\", lambda e: callback(\"file:///E:/Photo\"))\n",
    "\n",
    "bt2 = Button(root, text=\"Music\")\n",
    "bt2.pack()\n",
    "bt2.bind(\"<Button-1>\", lambda e: callback(\"file:///E:/Music\"))\n",
    "\n",
    "bt3 = Button(root, text=\"Animation\")\n",
    "bt3.pack()\n",
    "bt3.bind(\"<Button-1>\", lambda e: callback(\"file:///E:/Animation\"))\n",
    "\n",
    "bt4 = Button(root, text=\"Software\")\n",
    "bt4.pack()\n",
    "bt4.bind(\"<Button-1>\", lambda e: callback(\"file:///E:/Software\"))\n",
    "\n",
    "root.mainloop()"
   ]
  }
 ],
 "metadata": {
  "kernelspec": {
   "display_name": "Python 3.10.2 64-bit",
   "language": "python",
   "name": "python3"
  },
  "language_info": {
   "codemirror_mode": {
    "name": "ipython",
    "version": 3
   },
   "file_extension": ".py",
   "mimetype": "text/x-python",
   "name": "python",
   "nbconvert_exporter": "python",
   "pygments_lexer": "ipython3",
   "version": "3.10.2"
  },
  "orig_nbformat": 4,
  "vscode": {
   "interpreter": {
    "hash": "26de051ba29f2982a8de78e945f0abaf191376122a1563185a90213a26c5da77"
   }
  }
 },
 "nbformat": 4,
 "nbformat_minor": 2
}
