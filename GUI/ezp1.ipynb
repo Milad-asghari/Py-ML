{
 "cells": [
  {
   "cell_type": "code",
   "execution_count": 2,
   "metadata": {},
   "outputs": [],
   "source": [
    "import sys\n",
    "from easygui import *"
   ]
  },
  {
   "cell_type": "markdown",
   "metadata": {},
   "source": [
    "## Message Box"
   ]
  },
  {
   "cell_type": "code",
   "execution_count": 3,
   "metadata": {},
   "outputs": [
    {
     "data": {
      "text/plain": [
       "'OK'"
      ]
     },
     "execution_count": 3,
     "metadata": {},
     "output_type": "execute_result"
    }
   ],
   "source": [
    "msgbox()"
   ]
  },
  {
   "cell_type": "code",
   "execution_count": 4,
   "metadata": {},
   "outputs": [
    {
     "data": {
      "text/plain": [
       "'Bye'"
      ]
     },
     "execution_count": 4,
     "metadata": {},
     "output_type": "execute_result"
    }
   ],
   "source": [
    "#        Message            Title           Button\n",
    "msgbox('Hi!, Good Morning', 'My First app', 'Bye')\n"
   ]
  },
  {
   "cell_type": "code",
   "execution_count": 6,
   "metadata": {},
   "outputs": [
    {
     "data": {
      "text/plain": [
       "'OK'"
      ]
     },
     "execution_count": 6,
     "metadata": {},
     "output_type": "execute_result"
    }
   ],
   "source": [
    "msg = 'Welcome'\n",
    "title = 'Greetings'\n",
    "img = 'E:/Educational/M.Sc/AHelli/9/hl.jfif'\n",
    "msgbox(msg,title, image = img)"
   ]
  },
  {
   "cell_type": "markdown",
   "metadata": {},
   "source": [
    "Choice Box"
   ]
  },
  {
   "cell_type": "code",
   "execution_count": 8,
   "metadata": {},
   "outputs": [],
   "source": [
    "choic = [\"Yes\",\"No\",\"Only on Friday\"]\n",
    "reply = choicebox(\"Do you like to eat fish?\", choices=choic)"
   ]
  },
  {
   "cell_type": "code",
   "execution_count": 9,
   "metadata": {},
   "outputs": [
    {
     "data": {
      "text/plain": [
       "'Yes'"
      ]
     },
     "execution_count": 9,
     "metadata": {},
     "output_type": "execute_result"
    }
   ],
   "source": [
    "reply"
   ]
  },
  {
   "cell_type": "markdown",
   "metadata": {},
   "source": [
    "Continue/Cancel box"
   ]
  },
  {
   "cell_type": "code",
   "execution_count": 11,
   "metadata": {},
   "outputs": [
    {
     "ename": "SystemExit",
     "evalue": "0",
     "output_type": "error",
     "traceback": [
      "An exception has occurred, use %tb to see the full traceback.\n",
      "\u001b[1;31mSystemExit\u001b[0m\u001b[1;31m:\u001b[0m 0\n"
     ]
    },
    {
     "name": "stderr",
     "output_type": "stream",
     "text": [
      "C:\\Users\\Milad\\AppData\\Roaming\\Python\\Python310\\site-packages\\IPython\\core\\interactiveshell.py:3406: UserWarning: To exit: use 'exit', 'quit', or Ctrl-D.\n",
      "  warn(\"To exit: use 'exit', 'quit', or Ctrl-D.\", stacklevel=1)\n"
     ]
    }
   ],
   "source": [
    "msg = \"Do you want to continue?\"\n",
    "title = \"Please Confirm\"\n",
    "if ccbox(msg, title):     # show a Continue/Cancel dialog\n",
    "    pass  # user chose Continue\n",
    "else:  # user chose Cancel\n",
    "    sys.exit(0)"
   ]
  },
  {
   "cell_type": "markdown",
   "metadata": {},
   "source": [
    "yes/no box"
   ]
  },
  {
   "cell_type": "code",
   "execution_count": 13,
   "metadata": {},
   "outputs": [
    {
     "data": {
      "text/plain": [
       "False"
      ]
     },
     "execution_count": 13,
     "metadata": {},
     "output_type": "execute_result"
    }
   ],
   "source": [
    "ynbox('Does it work?')"
   ]
  },
  {
   "cell_type": "code",
   "execution_count": 15,
   "metadata": {},
   "outputs": [
    {
     "name": "stdout",
     "output_type": "stream",
     "text": [
      "well done\n"
     ]
    }
   ],
   "source": [
    "msg = 'What is the color?'\n",
    "title = 'Colors'\n",
    "choices = ['red','green','blue']\n",
    "img = 'E:/Educational/M.Sc/AHelli/9/download.jfif'\n",
    "a = buttonbox(msg,title,choices, image = img)\n",
    "\n",
    "if a=='red':\n",
    "    print('well done')\n",
    "elif a=='blue':\n",
    "    print('wrong')\n",
    "elif a == 'green':\n",
    "    print('wrong')"
   ]
  },
  {
   "cell_type": "markdown",
   "metadata": {},
   "source": [
    "Directory "
   ]
  },
  {
   "cell_type": "code",
   "execution_count": 17,
   "metadata": {},
   "outputs": [
    {
     "ename": "SystemExit",
     "evalue": "",
     "output_type": "error",
     "traceback": [
      "An exception has occurred, use %tb to see the full traceback.\n",
      "\u001b[1;31mSystemExit\u001b[0m\n"
     ]
    },
    {
     "name": "stderr",
     "output_type": "stream",
     "text": [
      "C:\\Users\\Milad\\AppData\\Roaming\\Python\\Python310\\site-packages\\IPython\\core\\interactiveshell.py:3406: UserWarning: To exit: use 'exit', 'quit', or Ctrl-D.\n",
      "  warn(\"To exit: use 'exit', 'quit', or Ctrl-D.\", stacklevel=1)\n"
     ]
    }
   ],
   "source": [
    "import webbrowser\n",
    "\n",
    "msg =\"Which directory you want to open?\"\n",
    "title = \"Explorer\"\n",
    "choices = [\"Helli_9\", \"Uni_Tehran\", \"Music\", \"Movies\",\"Quit\"]\n",
    "choice = choicebox(msg, title, choices)\n",
    "if choice == 'Helli_9':\n",
    "    path = \"E:/Educational/M.Sc/AHelli/9\"\n",
    "elif choice == 'Uni_Tehran':\n",
    "    path = \"E:/Educational/M.Sc\"\n",
    "elif choice == 'Music':\n",
    "    path = \"E:/Music\"\n",
    "elif choice == 'Movies':\n",
    "    path = 'E:/Movie'\n",
    "elif choice == 'Quit':\n",
    "    sys.exit()\n",
    "\n",
    "webbrowser.open(path)"
   ]
  },
  {
   "cell_type": "markdown",
   "metadata": {},
   "source": [
    "Information List"
   ]
  },
  {
   "cell_type": "code",
   "execution_count": 19,
   "metadata": {},
   "outputs": [],
   "source": [
    "Names = []\n",
    "L_Names = []\n",
    "Age = []\n",
    "City = []"
   ]
  },
  {
   "cell_type": "code",
   "execution_count": 1,
   "metadata": {},
   "outputs": [
    {
     "ename": "NameError",
     "evalue": "name 'multenterbox' is not defined",
     "output_type": "error",
     "traceback": [
      "\u001b[1;31m---------------------------------------------------------------------------\u001b[0m",
      "\u001b[1;31mNameError\u001b[0m                                 Traceback (most recent call last)",
      "\u001b[1;32me:\\Educational\\M.Sc\\AHelli\\9\\ezp1.ipynb Cell 18\u001b[0m in \u001b[0;36m<cell line: 1>\u001b[1;34m()\u001b[0m\n\u001b[0;32m      <a href='vscode-notebook-cell:/e%3A/Educational/M.Sc/AHelli/9/ezp1.ipynb#X23sZmlsZQ%3D%3D?line=1'>2</a>\u001b[0m fields \u001b[39m=\u001b[39m [\u001b[39m'\u001b[39m\u001b[39mName\u001b[39m\u001b[39m'\u001b[39m, \u001b[39m'\u001b[39m\u001b[39mLast Name\u001b[39m\u001b[39m'\u001b[39m, \u001b[39m'\u001b[39m\u001b[39mAge\u001b[39m\u001b[39m'\u001b[39m, \u001b[39m'\u001b[39m\u001b[39mCity\u001b[39m\u001b[39m'\u001b[39m]\n\u001b[0;32m      <a href='vscode-notebook-cell:/e%3A/Educational/M.Sc/AHelli/9/ezp1.ipynb#X23sZmlsZQ%3D%3D?line=2'>3</a>\u001b[0m values \u001b[39m=\u001b[39m [\u001b[39m'\u001b[39m\u001b[39m'\u001b[39m, \u001b[39m'\u001b[39m\u001b[39m'\u001b[39m, \u001b[39m'\u001b[39m\u001b[39m'\u001b[39m, \u001b[39m'\u001b[39m\u001b[39mTehran\u001b[39m\u001b[39m'\u001b[39m]\n\u001b[1;32m----> <a href='vscode-notebook-cell:/e%3A/Educational/M.Sc/AHelli/9/ezp1.ipynb#X23sZmlsZQ%3D%3D?line=3'>4</a>\u001b[0m output \u001b[39m=\u001b[39m multenterbox(\u001b[39m'\u001b[39m\u001b[39mEnter your information\u001b[39m\u001b[39m'\u001b[39m,\u001b[39m'\u001b[39m\u001b[39mCreating account\u001b[39m\u001b[39m'\u001b[39m,fields, values)\n\u001b[0;32m      <a href='vscode-notebook-cell:/e%3A/Educational/M.Sc/AHelli/9/ezp1.ipynb#X23sZmlsZQ%3D%3D?line=4'>5</a>\u001b[0m Names\u001b[39m.\u001b[39mappend(output[\u001b[39m0\u001b[39m])\n\u001b[0;32m      <a href='vscode-notebook-cell:/e%3A/Educational/M.Sc/AHelli/9/ezp1.ipynb#X23sZmlsZQ%3D%3D?line=5'>6</a>\u001b[0m L_Names\u001b[39m.\u001b[39mappend(output[\u001b[39m1\u001b[39m])\n",
      "\u001b[1;31mNameError\u001b[0m: name 'multenterbox' is not defined"
     ]
    }
   ],
   "source": [
    "while True:\n",
    "    fields = ['Name', 'Last Name', 'Age', 'City']\n",
    "    values = ['', '', '', 'Tehran']\n",
    "    output = multenterbox('Enter your information','Creating account',fields, values)\n",
    "    Names.append(output[0])\n",
    "    L_Names.append(output[1])\n",
    "    Age.append(output[2])\n",
    "    City.append(output[3])"
   ]
  },
  {
   "cell_type": "code",
   "execution_count": 21,
   "metadata": {},
   "outputs": [
    {
     "data": {
      "text/plain": [
       "['Ali', 'Amin', 'Mehdi']"
      ]
     },
     "execution_count": 21,
     "metadata": {},
     "output_type": "execute_result"
    }
   ],
   "source": [
    "Names"
   ]
  },
  {
   "cell_type": "code",
   "execution_count": 22,
   "metadata": {},
   "outputs": [
    {
     "name": "stdout",
     "output_type": "stream",
     "text": [
      "Ali Rezadei 19 Tehran\n",
      "Amin Akbari 17 Tehran\n",
      "Mehdi Alizadeh 14 Tehran\n"
     ]
    }
   ],
   "source": [
    "for i in range(len(Names)):\n",
    "    print(Names[i],L_Names[i],Age[i],City[i])"
   ]
  },
  {
   "cell_type": "code",
   "execution_count": 8,
   "metadata": {},
   "outputs": [],
   "source": [
    "Names_1 = []\n",
    "L_Names_1 = []\n",
    "Grade = []"
   ]
  },
  {
   "cell_type": "code",
   "execution_count": 13,
   "metadata": {},
   "outputs": [],
   "source": [
    "while True:\n",
    "    fields = ['Name', 'Last Name', 'Grade']\n",
    "    output = multenterbox('Enter student information','Math',fields)\n",
    "    Names_1.append(output[0])\n",
    "    L_Names_1.append(output[1])\n",
    "    Grade.append(output[2])\n"
   ]
  },
  {
   "cell_type": "code",
   "execution_count": 32,
   "metadata": {},
   "outputs": [],
   "source": [
    "f_G = []\n",
    "for i in range(len(Grade)):\n",
    "    f_G.append(float(list(Grade)[i]))"
   ]
  },
  {
   "cell_type": "code",
   "execution_count": 37,
   "metadata": {},
   "outputs": [
    {
     "name": "stdout",
     "output_type": "stream",
     "text": [
      "Average Grade for Math Exam is: 18.5 \n"
     ]
    }
   ],
   "source": [
    "average = sum(f_G)/len(f_G)\n",
    "print(f'Average Grade for Math Exam is: {average} ')"
   ]
  },
  {
   "cell_type": "code",
   "execution_count": 5,
   "metadata": {},
   "outputs": [],
   "source": [
    "passwords = []\n",
    "while True:\n",
    "    msg = 'Enter your password, (if you want to quit enter 0)'\n",
    "    title = 'Password'\n",
    "    output = passwordbox(msg,title)\n",
    "    if output == '0':\n",
    "        break\n",
    "    passwords.append(output)\n",
    "    "
   ]
  },
  {
   "cell_type": "code",
   "execution_count": 6,
   "metadata": {},
   "outputs": [
    {
     "data": {
      "text/plain": [
       "['4148541', '525641', '89526', '989652']"
      ]
     },
     "execution_count": 6,
     "metadata": {},
     "output_type": "execute_result"
    }
   ],
   "source": [
    "passwords"
   ]
  }
 ],
 "metadata": {
  "kernelspec": {
   "display_name": "Python 3.10.2 64-bit",
   "language": "python",
   "name": "python3"
  },
  "language_info": {
   "codemirror_mode": {
    "name": "ipython",
    "version": 3
   },
   "file_extension": ".py",
   "mimetype": "text/x-python",
   "name": "python",
   "nbconvert_exporter": "python",
   "pygments_lexer": "ipython3",
   "version": "3.10.2"
  },
  "orig_nbformat": 4,
  "vscode": {
   "interpreter": {
    "hash": "26de051ba29f2982a8de78e945f0abaf191376122a1563185a90213a26c5da77"
   }
  }
 },
 "nbformat": 4,
 "nbformat_minor": 2
}
